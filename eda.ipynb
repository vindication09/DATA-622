{
 "cells": [
  {
   "cell_type": "markdown",
   "metadata": {},
   "source": [
    "# DATA 622 # hw2\n",
    "\n",
    "Assigned on September 15, 2018\n",
    "Due on October 6, 2019 11:59 PM EST\n",
    "17 points possible, worth 17% of your final grade\n",
    "Required Reading\n",
    "Read Chapter 4 of the Deep Learning Book Read Chapter 5 of the Deep Learning Book Read Chapter 1 of the Agile Data Science 2.0 textbook\n",
    "\n",
    "Data Pipeline using Python (13 points total)\n",
    "\n",
    "Build a data pipeline in Python that downloads data using the urls given below, trains a random forest model on the training dataset using sklearn and scores the model on the test dataset.\n",
    "\n",
    "Scoring Rubric\n",
    "\n",
    "The homework will be scored based on code efficiency (hint: use functions, not stream of consciousness coding), code cleaniless, code reproducibility, and critical thinking (hint: commenting lets me know what you are thinking!) Instructions:\n",
    "\n",
    "Submit the following 5 items on github. ReadMe.md (see \"Critical Thinking\") requirements.txt pull_data.py train_model.py score_model.py\n",
    "\n",
    "More details:\n",
    "\n",
    "requirements.txt (2 point) This file documents all dependencies needed on top of the existing packages in the Docker Dataquest image from HW1. When called upon using pip install -r requirements.txt , this will install all python packages needed to run the .py files. (hint: use pip freeze to generate the .txt file)\n",
    "\n",
    "pull_data.py (5 points) When this is called using python pull_data.py in the command line, this will go to the 2 Kaggle urls provided below, authenticate using your own Kaggle sign on, pull the two datasets, and save as .csv files in the current local directory. The authentication login details (aka secrets) need to be in a hidden folder (hint: use .gitignore). There must be a data check step to ensure the data has been pulled correctly and clear commenting and documentation for each step inside the .py file. Training dataset url: https://www.kaggle.com/c/titanic/download/train.csv Scoring dataset url: https://www.kaggle.com/c/titanic/download/test.csv\n",
    "\n",
    "train_model.py (5 points) When this is called using python train_model.py in the command line, this will take in the training dataset csv, perform the necessary data cleaning and imputation, and fit a classification model to the dependent Y. There must be data check steps and clear commenting for each step inside the .py file. The output for running this file is the random forest model saved as a .pkl file in the local directory. Remember that the thought process and decision for why you chose the final model must be clearly documented in this section. eda.ipynb (0 points)\n",
    "\n",
    "[Optional] This supplements the commenting inside train_model.py. This is the place to provide scratch work and plots to convince me why you did certain data imputations and manipulations inside the train_model.py file.\n",
    "\n",
    "score_model.py (2 points) When this is called using python score_model.py in the command line, this will ingest the .pkl random forest file and apply the model to the locally saved scoring dataset csv. There must be data check steps and clear commenting for each step inside the .py file. The output for running this file is a csv file with the predicted score, as well as a png or text file output that contains the model accuracy report (e.g. sklearn's classification report or any other way of model evaluation).\n",
    "\n",
    "Critical Thinking (3 points total) Modify this ReadMe file to answer the following questions directly in place.\n",
    "Kaggle changes links/ file locations/login process/ file content\n",
    "We run out of space on HD / local permissions issue - can't save files\n",
    "Someone updated python packages and there is unintended effect (functions retired or act differently)\n",
    "Docker issues - lost internet within docker due to some ip binding to vm or local routing issues( I guess this falls under lost internet, but I am talking more if docker is the cause rather then ISP)"
   ]
  },
  {
   "cell_type": "markdown",
   "metadata": {},
   "source": [
    "## I) Requirements\n",
    "\n",
    "This txt file will list all required dependicies needed for this project."
   ]
  },
  {
   "cell_type": "raw",
   "metadata": {},
   "source": [
    "kaggle\n",
    "pandas\n",
    "matplotlib\n",
    "scipy\n",
    "seaborn\n",
    "numpy\n",
    "sklearn\n",
    "missingpy"
   ]
  },
  {
   "cell_type": "markdown",
   "metadata": {},
   "source": [
    "We need to create a virtual python 3 env. pointed to the directory where the following scripts/files will live:\n",
    "\n",
    "* pull_data.py\n",
    "\n",
    "* train_model.py\n",
    "\n",
    "* score_model.py\n",
    "\n",
    "* requirements.txt\n",
    "\n",
    "Requirements will be installed in the env. using pip install -r requirements.txt. \n",
    "\n",
    "The remainig scripts will run using something simialr to:\n",
    "\n",
    "* python.exe C:\\Users\\traveler\\Desktop\\pyscript\\pull_data.py\n",
    "\n",
    "* python.exe C:\\Users\\traveler\\Desktop\\pyscript\\train_model.py\n",
    "\n",
    "* python.exe C:\\Users\\traveler\\Desktop\\pyscript\\score_model.py\n",
    "\n",
    "Please note: Final submission will have different paths belonging to Mac OS \n",
    "\n",
    "## II) Pull Data \n",
    "\n",
    "This script will find the kaggle.json file, which was generated by downloading the API token from kaggle. Once the credentials have been passed, the script will locate the titanic data and download it locally. We will re-define the data since part of this process requires model diagnostics. The test data will now be called validation while the train data will be called titanic. We will partition titanic into test and train then simulate deployment on validation."
   ]
  },
  {
   "cell_type": "code",
   "execution_count": 1,
   "metadata": {},
   "outputs": [
    {
     "name": "stdout",
     "output_type": "stream",
     "text": [
      "Warning: Your Kaggle API key is readable by other users on this system! To fix this, you can run 'chmod 600 /Users/vinicioharo/.kaggle/kaggle.json'\n",
      "Warning: Your Kaggle API key is readable by other users on this system! To fix this, you can run 'chmod 600 /Users/vinicioharo/.kaggle/kaggle.json'\n"
     ]
    },
    {
     "data": {
      "text/html": [
       "<div>\n",
       "<style scoped>\n",
       "    .dataframe tbody tr th:only-of-type {\n",
       "        vertical-align: middle;\n",
       "    }\n",
       "\n",
       "    .dataframe tbody tr th {\n",
       "        vertical-align: top;\n",
       "    }\n",
       "\n",
       "    .dataframe thead th {\n",
       "        text-align: right;\n",
       "    }\n",
       "</style>\n",
       "<table border=\"1\" class=\"dataframe\">\n",
       "  <thead>\n",
       "    <tr style=\"text-align: right;\">\n",
       "      <th></th>\n",
       "      <th>PassengerId</th>\n",
       "      <th>Survived</th>\n",
       "      <th>Pclass</th>\n",
       "      <th>Name</th>\n",
       "      <th>Sex</th>\n",
       "      <th>Age</th>\n",
       "      <th>SibSp</th>\n",
       "      <th>Parch</th>\n",
       "      <th>Ticket</th>\n",
       "      <th>Fare</th>\n",
       "      <th>Cabin</th>\n",
       "      <th>Embarked</th>\n",
       "    </tr>\n",
       "  </thead>\n",
       "  <tbody>\n",
       "    <tr>\n",
       "      <th>0</th>\n",
       "      <td>1</td>\n",
       "      <td>0</td>\n",
       "      <td>3</td>\n",
       "      <td>Braund, Mr. Owen Harris</td>\n",
       "      <td>male</td>\n",
       "      <td>22.0</td>\n",
       "      <td>1</td>\n",
       "      <td>0</td>\n",
       "      <td>A/5 21171</td>\n",
       "      <td>7.2500</td>\n",
       "      <td>NaN</td>\n",
       "      <td>S</td>\n",
       "    </tr>\n",
       "    <tr>\n",
       "      <th>1</th>\n",
       "      <td>2</td>\n",
       "      <td>1</td>\n",
       "      <td>1</td>\n",
       "      <td>Cumings, Mrs. John Bradley (Florence Briggs Th...</td>\n",
       "      <td>female</td>\n",
       "      <td>38.0</td>\n",
       "      <td>1</td>\n",
       "      <td>0</td>\n",
       "      <td>PC 17599</td>\n",
       "      <td>71.2833</td>\n",
       "      <td>C85</td>\n",
       "      <td>C</td>\n",
       "    </tr>\n",
       "    <tr>\n",
       "      <th>2</th>\n",
       "      <td>3</td>\n",
       "      <td>1</td>\n",
       "      <td>3</td>\n",
       "      <td>Heikkinen, Miss. Laina</td>\n",
       "      <td>female</td>\n",
       "      <td>26.0</td>\n",
       "      <td>0</td>\n",
       "      <td>0</td>\n",
       "      <td>STON/O2. 3101282</td>\n",
       "      <td>7.9250</td>\n",
       "      <td>NaN</td>\n",
       "      <td>S</td>\n",
       "    </tr>\n",
       "    <tr>\n",
       "      <th>3</th>\n",
       "      <td>4</td>\n",
       "      <td>1</td>\n",
       "      <td>1</td>\n",
       "      <td>Futrelle, Mrs. Jacques Heath (Lily May Peel)</td>\n",
       "      <td>female</td>\n",
       "      <td>35.0</td>\n",
       "      <td>1</td>\n",
       "      <td>0</td>\n",
       "      <td>113803</td>\n",
       "      <td>53.1000</td>\n",
       "      <td>C123</td>\n",
       "      <td>S</td>\n",
       "    </tr>\n",
       "    <tr>\n",
       "      <th>4</th>\n",
       "      <td>5</td>\n",
       "      <td>0</td>\n",
       "      <td>3</td>\n",
       "      <td>Allen, Mr. William Henry</td>\n",
       "      <td>male</td>\n",
       "      <td>35.0</td>\n",
       "      <td>0</td>\n",
       "      <td>0</td>\n",
       "      <td>373450</td>\n",
       "      <td>8.0500</td>\n",
       "      <td>NaN</td>\n",
       "      <td>S</td>\n",
       "    </tr>\n",
       "  </tbody>\n",
       "</table>\n",
       "</div>"
      ],
      "text/plain": [
       "   PassengerId  Survived  Pclass  \\\n",
       "0            1         0       3   \n",
       "1            2         1       1   \n",
       "2            3         1       3   \n",
       "3            4         1       1   \n",
       "4            5         0       3   \n",
       "\n",
       "                                                Name     Sex   Age  SibSp  \\\n",
       "0                            Braund, Mr. Owen Harris    male  22.0      1   \n",
       "1  Cumings, Mrs. John Bradley (Florence Briggs Th...  female  38.0      1   \n",
       "2                             Heikkinen, Miss. Laina  female  26.0      0   \n",
       "3       Futrelle, Mrs. Jacques Heath (Lily May Peel)  female  35.0      1   \n",
       "4                           Allen, Mr. William Henry    male  35.0      0   \n",
       "\n",
       "   Parch            Ticket     Fare Cabin Embarked  \n",
       "0      0         A/5 21171   7.2500   NaN        S  \n",
       "1      0          PC 17599  71.2833   C85        C  \n",
       "2      0  STON/O2. 3101282   7.9250   NaN        S  \n",
       "3      0            113803  53.1000  C123        S  \n",
       "4      0            373450   8.0500   NaN        S  "
      ]
     },
     "execution_count": 1,
     "metadata": {},
     "output_type": "execute_result"
    }
   ],
   "source": [
    "import os\n",
    "import zipfile\n",
    "import pandas as pd\n",
    "from kaggle.api.kaggle_api_extended import KaggleApi\n",
    "\n",
    "api = KaggleApi('{\"username\":\"vindication09\",\"key\":\"dd1b03f9210cced82665684af4672b29\"}')\n",
    "api.authenticate()\n",
    "api.competition_download_files(\"titanic\")\n",
    "\n",
    "zf = zipfile.ZipFile('titanic.zip') # importing zip file from local path\n",
    "\n",
    "titanic = pd.read_csv(zf.open('train.csv')) # open train.csv\n",
    "\n",
    "validation = pd.read_csv(zf.open('test.csv')) # open test.csv\n",
    "\n",
    "titanic.head()"
   ]
  },
  {
   "cell_type": "markdown",
   "metadata": {},
   "source": [
    "## EDA (Optional)\n",
    "\n",
    "This is a file that will convince the reader as to why certain data processing methods were used. We also use this section to examine distributions and missing data analysis. "
   ]
  },
  {
   "cell_type": "code",
   "execution_count": 23,
   "metadata": {},
   "outputs": [],
   "source": [
    "#Import Packages \n",
    "import pandas as pd\n",
    "\n",
    "import numpy as np\n",
    "\n",
    "import matplotlib.pyplot as plt \n",
    "\n",
    "from sklearn.model_selection import train_test_split\n",
    "\n",
    "from sklearn.preprocessing import LabelEncoder\n",
    "\n",
    "from sklearn.preprocessing import OneHotEncoder\n",
    "\n",
    "import category_encoders as ce\n",
    "\n",
    "from sklearn.tree import DecisionTreeClassifier\n",
    "\n",
    "from sklearn.metrics import confusion_matrix,classification_report,precision_score\n",
    "\n",
    "import seaborn as sns\n",
    "\n",
    "from IPython.display import Image  \n",
    "\n",
    "from sklearn.externals.six import StringIO  \n",
    "\n",
    "from sklearn.tree import export_graphviz\n",
    "\n",
    "import pydot\n",
    "\n",
    "from sklearn.feature_selection import RFE\n",
    "\n",
    "from sklearn.linear_model import LogisticRegression\n",
    "\n",
    "import statsmodels.api as sm\n",
    "\n",
    "from sklearn.naive_bayes import GaussianNB, BernoulliNB, MultinomialNB\n",
    "\n",
    "from pandasql import sqldf\n",
    "\n",
    "from IPython.display import Image  \n",
    "\n",
    "from sklearn.externals.six import StringIO  \n",
    "\n",
    "from sklearn.tree import export_graphviz\n",
    "\n",
    "import pydot\n",
    "\n",
    "from sklearn.ensemble import RandomForestClassifier\n",
    "\n",
    "import pickle\n",
    "\n",
    "import math"
   ]
  },
  {
   "cell_type": "markdown",
   "metadata": {},
   "source": [
    "### EDA - Missing Data \n",
    "\n",
    "This will help us get a sense of what variables we should impute."
   ]
  },
  {
   "cell_type": "code",
   "execution_count": 3,
   "metadata": {},
   "outputs": [
    {
     "data": {
      "text/plain": [
       "<matplotlib.axes._subplots.AxesSubplot at 0x1c1a458128>"
      ]
     },
     "execution_count": 3,
     "metadata": {},
     "output_type": "execute_result"
    },
    {
     "data": {
      "image/png": "[encoded data removed]",
      "text/plain": [
       "<Figure size 576x576 with 1 Axes>"
      ]
     },
     "metadata": {},
     "output_type": "display_data"
    }
   ],
   "source": [
    "#missing value analysis \n",
    "\n",
    "titanic.isnull().sum().plot(kind=\"bar\", figsize=(8,8))"
   ]
  },
  {
   "cell_type": "markdown",
   "metadata": {},
   "source": [
    "We can see that Cabin has the highest number of missing entries followed by Age and Embarked. We do not know what percentage of the data frame is composed of missing data for each variable."
   ]
  },
  {
   "cell_type": "code",
   "execution_count": 4,
   "metadata": {},
   "outputs": [
    {
     "data": {
      "text/plain": [
       "PassengerId    0.000000\n",
       "Survived       0.000000\n",
       "Pclass         0.000000\n",
       "Name           0.000000\n",
       "Sex            0.000000\n",
       "Age            0.198653\n",
       "SibSp          0.000000\n",
       "Parch          0.000000\n",
       "Ticket         0.000000\n",
       "Fare           0.000000\n",
       "Cabin          0.771044\n",
       "Embarked       0.002245\n",
       "dtype: float64"
      ]
     },
     "execution_count": 4,
     "metadata": {},
     "output_type": "execute_result"
    }
   ],
   "source": [
    "missing = titanic.isna()\n",
    "\n",
    "missing_count=missing.sum()\n",
    "\n",
    "missing_count/len(titanic)"
   ]
  },
  {
   "cell_type": "markdown",
   "metadata": {},
   "source": [
    "We can see that Cabin is missing over 70% of Data. Typically, this is way beyond the accepted threshold and could be eliminated, however Class is a cabin number. Without features of the cabin it's self, I do not think Cabin will be important. Cabin would be more useful if we knew deck level, size, proximity to exits etc... This is hypothetical.\n",
    "\n",
    "Please see this discussion where Data people discuss the right threshold for missing data https://discuss.analyticsvidhya.com/t/what-should-be-the-allowed-percentage-of-missing-values/2456\n",
    "\n",
    "#### EDA- Distributions"
   ]
  },
  {
   "cell_type": "code",
   "execution_count": 5,
   "metadata": {},
   "outputs": [
    {
     "data": {
      "text/plain": [
       "<matplotlib.axes._subplots.AxesSubplot at 0x1c258ab630>"
      ]
     },
     "execution_count": 5,
     "metadata": {},
     "output_type": "execute_result"
    },
    {
     "data": {
      "image/png": "[encoded data removed]",
      "text/plain": [
       "<Figure size 720x720 with 1 Axes>"
      ]
     },
     "metadata": {},
     "output_type": "display_data"
    }
   ],
   "source": [
    "#Distribution of Reponse variable \n",
    "\n",
    "titanic.groupby(\"Survived\").size().plot(kind='bar', figsize=(10,10))"
   ]
  },
  {
   "cell_type": "markdown",
   "metadata": {},
   "source": [
    "There does not seem to be a terrible imbalance in the response variable. Lets examine the distributions of survived /not survived for categorical variables. "
   ]
  },
  {
   "cell_type": "code",
   "execution_count": 6,
   "metadata": {},
   "outputs": [
    {
     "data": {
      "text/plain": [
       "Text(0,0.5,'Count')"
      ]
     },
     "execution_count": 6,
     "metadata": {},
     "output_type": "execute_result"
    },
    {
     "data": {
      "image/png": "[encoded data removed]",
      "text/plain": [
       "<Figure size 720x720 with 1 Axes>"
      ]
     },
     "metadata": {},
     "output_type": "display_data"
    }
   ],
   "source": [
    "%matplotlib inline \n",
    "\n",
    "pd.crosstab(titanic['Pclass'],titanic['Survived']).plot(kind='bar', figsize=(10,10))\n",
    "\n",
    "plt.title('Number of Survivers/Deaths By Class')\n",
    "\n",
    "plt.xlabel('Class')\n",
    "\n",
    "plt.ylabel('Count')\n"
   ]
  },
  {
   "cell_type": "markdown",
   "metadata": {},
   "source": [
    "This plot reveals some assumption that I had regarding that upper class passengers had a greater survival rate. First class passengers had the greatest survival rate while third class passengers had the worst survival rate. This leads me to believe that class will be an important predictor. "
   ]
  },
  {
   "cell_type": "code",
   "execution_count": 7,
   "metadata": {},
   "outputs": [
    {
     "data": {
      "text/plain": [
       "Text(0,0.5,'Count')"
      ]
     },
     "execution_count": 7,
     "metadata": {},
     "output_type": "execute_result"
    },
    {
     "data": {
      "image/png": "[encoded data removed]",
      "text/plain": [
       "<Figure size 720x720 with 1 Axes>"
      ]
     },
     "metadata": {},
     "output_type": "display_data"
    }
   ],
   "source": [
    "%matplotlib inline \n",
    "\n",
    "pd.crosstab(titanic['Sex'],titanic['Survived']).plot(kind='bar', figsize=(10,10))\n",
    "\n",
    "plt.title('Number of Survivers/Deaths By Gender')\n",
    "\n",
    "plt.xlabel('Gender')\n",
    "\n",
    "plt.ylabel('Count')\n"
   ]
  },
  {
   "cell_type": "markdown",
   "metadata": {},
   "source": [
    "Females have a much greater survival rate than males. This satisfies an assumption where \"women and children\" were placedin life boats first. This too could be an important predictor. "
   ]
  },
  {
   "cell_type": "code",
   "execution_count": 8,
   "metadata": {},
   "outputs": [
    {
     "data": {
      "text/plain": [
       "Text(0,0.5,'Count')"
      ]
     },
     "execution_count": 8,
     "metadata": {},
     "output_type": "execute_result"
    },
    {
     "data": {
      "image/png": "[encoded data removed]",
      "text/plain": [
       "<Figure size 1440x1440 with 1 Axes>"
      ]
     },
     "metadata": {},
     "output_type": "display_data"
    }
   ],
   "source": [
    "%matplotlib inline \n",
    "\n",
    "pd.crosstab(titanic['Age'],titanic['Survived']).plot(kind='bar', figsize=(20,20))\n",
    "\n",
    "plt.title('Number of Survivers/Deaths By Age')\n",
    "\n",
    "plt.xlabel('Age')\n",
    "\n",
    "plt.ylabel('Count')"
   ]
  },
  {
   "cell_type": "markdown",
   "metadata": {},
   "source": [
    "We observe quite the variety of survival rates for each age. Itis difficult to say that the elderly had the greatest survival rate because we see instances where 80 year old people had a high survival rate vs 70 year old people who had a low survival rate. Lets create arbitrary bins for age to get a better sense of the overall distribution of survival by age group. "
   ]
  },
  {
   "cell_type": "code",
   "execution_count": 9,
   "metadata": {},
   "outputs": [
    {
     "data": {
      "text/plain": [
       "Text(0,0.5,'Count')"
      ]
     },
     "execution_count": 9,
     "metadata": {},
     "output_type": "execute_result"
    },
    {
     "data": {
      "image/png": "[encoded data removed]",
      "text/plain": [
       "<Figure size 720x720 with 1 Axes>"
      ]
     },
     "metadata": {},
     "output_type": "display_data"
    }
   ],
   "source": [
    " pysqldf = lambda q: sqldf(q, globals())\n",
    "\n",
    "q=\"\"\"\n",
    "select \n",
    "Survived,\n",
    "Pclass, \n",
    "Sex,\n",
    "case when Age<=12 then 'child'\n",
    "when Age>12 and Age<18 then 'young adult'\n",
    "when Age>=18 and Age<65 then 'Adult'\n",
    "when Age>=65 then 'Senior' end as age,\n",
    "SibSp,\n",
    "Parch,\n",
    "Ticket,\n",
    "Fare,\n",
    "Cabin,\n",
    "Embarked\n",
    "from titanic\n",
    "\n",
    "\"\"\"\n",
    "\n",
    "titanic2 = pysqldf(q)\n",
    "\n",
    "%matplotlib inline \n",
    "\n",
    "pd.crosstab(titanic2['age'],titanic2['Survived']).plot(kind='bar', figsize=(10,10))\n",
    "\n",
    "plt.title('Number of Survivers/Deaths By Age')\n",
    "\n",
    "plt.xlabel('Age Grouo')\n",
    "\n",
    "plt.ylabel('Count')"
   ]
  },
  {
   "cell_type": "markdown",
   "metadata": {},
   "source": [
    "There seems to be an inverse relationship with number of young adults surviving with children given that they have at least one sibling. We can do correlation analysis but we leave that as a suggestion. Lets see the survival rates on everyone with a sibling as a whole."
   ]
  },
  {
   "cell_type": "code",
   "execution_count": 10,
   "metadata": {},
   "outputs": [
    {
     "data": {
      "text/plain": [
       "Text(0,0.5,'Count')"
      ]
     },
     "execution_count": 10,
     "metadata": {},
     "output_type": "execute_result"
    },
    {
     "data": {
      "image/png": "[encoded data removed]",
      "text/plain": [
       "<Figure size 720x720 with 1 Axes>"
      ]
     },
     "metadata": {},
     "output_type": "display_data"
    }
   ],
   "source": [
    "%matplotlib inline \n",
    "\n",
    "pd.crosstab(titanic['SibSp'],titanic['Survived']).plot(kind='bar', figsize=(10,10))\n",
    "\n",
    "plt.title('Number of Survivers/Deaths By Passengers with Siblings')\n",
    "\n",
    "plt.xlabel('Number of Siblings')\n",
    "\n",
    "plt.ylabel('Count')\n"
   ]
  },
  {
   "cell_type": "markdown",
   "metadata": {},
   "source": [
    "It seems that having no siblings or more tha 1 sibling did not help the survival rate of passengers. We look at one more variable Parch, which is the number of parents with children."
   ]
  },
  {
   "cell_type": "code",
   "execution_count": 11,
   "metadata": {},
   "outputs": [
    {
     "data": {
      "text/plain": [
       "Text(0,0.5,'Count')"
      ]
     },
     "execution_count": 11,
     "metadata": {},
     "output_type": "execute_result"
    },
    {
     "data": {
      "image/png": "[encoded data removed]",
      "text/plain": [
       "<Figure size 720x720 with 1 Axes>"
      ]
     },
     "metadata": {},
     "output_type": "display_data"
    }
   ],
   "source": [
    "%matplotlib inline \n",
    "\n",
    "pd.crosstab(titanic['Parch'],titanic['Survived']).plot(kind='bar', figsize=(10,10))\n",
    "\n",
    "plt.title('Number of Survivers/Deaths By Passengers who are parents with Children on Board')\n",
    "\n",
    "plt.xlabel('Number of Children per Parent')\n",
    "\n",
    "plt.ylabel('Count')\n"
   ]
  },
  {
   "cell_type": "markdown",
   "metadata": {},
   "source": [
    "It seems that parents with no children had a higher death rate. This could be due to the fact that children were given priority followed by the mother. Parents with one child had a higher survival rate but parents with more than one child had lower survival rates."
   ]
  },
  {
   "cell_type": "code",
   "execution_count": 12,
   "metadata": {},
   "outputs": [
    {
     "data": {
      "text/plain": [
       "Text(0,0.5,'count')"
      ]
     },
     "execution_count": 12,
     "metadata": {},
     "output_type": "execute_result"
    },
    {
     "data": {
      "image/png": "[encoded data removed]",
      "text/plain": [
       "<Figure size 720x720 with 1 Axes>"
      ]
     },
     "metadata": {},
     "output_type": "display_data"
    }
   ],
   "source": [
    "%matplotlib inline \n",
    "\n",
    "pd.crosstab(titanic['Embarked'],titanic['Survived']).plot(kind='bar', figsize=(10,10))\n",
    "\n",
    "plt.title('Number of Survivers/Deaths By Point of Entry')\n",
    "\n",
    "plt.xlabel('Point of Entry')\n",
    "\n",
    "plt.ylabel('count')"
   ]
  },
  {
   "cell_type": "markdown",
   "metadata": {},
   "source": [
    "After going through our EDA, we have the following solutions:\n",
    "\n",
    "* Drop cabin, ticket, passenger id, and passenger name\n",
    "\n",
    "* Impute embarked using mode method and impute age using mean/median method \n",
    "\n",
    "* Apply encoding methods to satisfy sklearn's numerical values only condition\n",
    "\n",
    "\n",
    "## II) Prepare Data"
   ]
  },
  {
   "cell_type": "code",
   "execution_count": 13,
   "metadata": {},
   "outputs": [],
   "source": [
    "#make a copy\n",
    "titanic2=titanic\n",
    "\n",
    "# Impute with Mode - Embarked\n",
    "titanic2['Embarked'] = titanic2['Embarked'].fillna('S')\n",
    "\n",
    "# Drop Ticket\n",
    "titanic2 = titanic2.drop(['Ticket'], axis=1)"
   ]
  },
  {
   "cell_type": "code",
   "execution_count": 18,
   "metadata": {},
   "outputs": [],
   "source": [
    "pysqldf = lambda q: sqldf(q, globals())\n",
    "\n",
    "q=\"\"\"\n",
    "select \n",
    "Survived,\n",
    "Pclass, \n",
    "case when Sex in ('male') then 1\n",
    "when Sex in ('female') then 0 end as 'gender',\n",
    "Age,\n",
    "SibSp,\n",
    "Parch,\n",
    "Fare,\n",
    "Embarked\n",
    "from titanic2\n",
    "\n",
    "\"\"\"\n",
    "\n",
    "titanic3 = pysqldf(q)"
   ]
  },
  {
   "cell_type": "code",
   "execution_count": 19,
   "metadata": {},
   "outputs": [],
   "source": [
    "#Apply One Hot Encoder\n",
    "\n",
    "import category_encoders as ce\n",
    "from sklearn.preprocessing import OneHotEncoder\n",
    "\n",
    "ohe = ce.OneHotEncoder(handle_unknown='ignore', use_cat_names=True)\n",
    "\n",
    "titanic3 = ohe.fit_transform(titanic3)"
   ]
  },
  {
   "cell_type": "code",
   "execution_count": 20,
   "metadata": {},
   "outputs": [
    {
     "data": {
      "text/html": [
       "<div>\n",
       "<style scoped>\n",
       "    .dataframe tbody tr th:only-of-type {\n",
       "        vertical-align: middle;\n",
       "    }\n",
       "\n",
       "    .dataframe tbody tr th {\n",
       "        vertical-align: top;\n",
       "    }\n",
       "\n",
       "    .dataframe thead th {\n",
       "        text-align: right;\n",
       "    }\n",
       "</style>\n",
       "<table border=\"1\" class=\"dataframe\">\n",
       "  <thead>\n",
       "    <tr style=\"text-align: right;\">\n",
       "      <th></th>\n",
       "      <th>Survived</th>\n",
       "      <th>Pclass</th>\n",
       "      <th>gender</th>\n",
       "      <th>Age</th>\n",
       "      <th>SibSp</th>\n",
       "      <th>Parch</th>\n",
       "      <th>Fare</th>\n",
       "      <th>Embarked_S</th>\n",
       "      <th>Embarked_C</th>\n",
       "      <th>Embarked_Q</th>\n",
       "    </tr>\n",
       "  </thead>\n",
       "  <tbody>\n",
       "    <tr>\n",
       "      <th>0</th>\n",
       "      <td>0</td>\n",
       "      <td>3</td>\n",
       "      <td>1</td>\n",
       "      <td>22.0</td>\n",
       "      <td>1</td>\n",
       "      <td>0</td>\n",
       "      <td>7.2500</td>\n",
       "      <td>1</td>\n",
       "      <td>0</td>\n",
       "      <td>0</td>\n",
       "    </tr>\n",
       "    <tr>\n",
       "      <th>1</th>\n",
       "      <td>1</td>\n",
       "      <td>1</td>\n",
       "      <td>0</td>\n",
       "      <td>38.0</td>\n",
       "      <td>1</td>\n",
       "      <td>0</td>\n",
       "      <td>71.2833</td>\n",
       "      <td>0</td>\n",
       "      <td>1</td>\n",
       "      <td>0</td>\n",
       "    </tr>\n",
       "    <tr>\n",
       "      <th>2</th>\n",
       "      <td>1</td>\n",
       "      <td>3</td>\n",
       "      <td>0</td>\n",
       "      <td>26.0</td>\n",
       "      <td>0</td>\n",
       "      <td>0</td>\n",
       "      <td>7.9250</td>\n",
       "      <td>1</td>\n",
       "      <td>0</td>\n",
       "      <td>0</td>\n",
       "    </tr>\n",
       "    <tr>\n",
       "      <th>3</th>\n",
       "      <td>1</td>\n",
       "      <td>1</td>\n",
       "      <td>0</td>\n",
       "      <td>35.0</td>\n",
       "      <td>1</td>\n",
       "      <td>0</td>\n",
       "      <td>53.1000</td>\n",
       "      <td>1</td>\n",
       "      <td>0</td>\n",
       "      <td>0</td>\n",
       "    </tr>\n",
       "    <tr>\n",
       "      <th>4</th>\n",
       "      <td>0</td>\n",
       "      <td>3</td>\n",
       "      <td>1</td>\n",
       "      <td>35.0</td>\n",
       "      <td>0</td>\n",
       "      <td>0</td>\n",
       "      <td>8.0500</td>\n",
       "      <td>1</td>\n",
       "      <td>0</td>\n",
       "      <td>0</td>\n",
       "    </tr>\n",
       "  </tbody>\n",
       "</table>\n",
       "</div>"
      ],
      "text/plain": [
       "   Survived  Pclass  gender   Age  SibSp  Parch     Fare  Embarked_S  \\\n",
       "0         0       3       1  22.0      1      0   7.2500           1   \n",
       "1         1       1       0  38.0      1      0  71.2833           0   \n",
       "2         1       3       0  26.0      0      0   7.9250           1   \n",
       "3         1       1       0  35.0      1      0  53.1000           1   \n",
       "4         0       3       1  35.0      0      0   8.0500           1   \n",
       "\n",
       "   Embarked_C  Embarked_Q  \n",
       "0           0           0  \n",
       "1           1           0  \n",
       "2           0           0  \n",
       "3           0           0  \n",
       "4           0           0  "
      ]
     },
     "execution_count": 20,
     "metadata": {},
     "output_type": "execute_result"
    }
   ],
   "source": [
    "titanic3.head()"
   ]
  },
  {
   "cell_type": "code",
   "execution_count": 21,
   "metadata": {},
   "outputs": [
    {
     "data": {
      "image/png": "[encoded data removed]",
      "text/plain": [
       "<Figure size 576x576 with 2 Axes>"
      ]
     },
     "metadata": {},
     "output_type": "display_data"
    }
   ],
   "source": [
    "#Using Spearman Correlation\n",
    "import seaborn as sns\n",
    "\n",
    "plt.figure(figsize=(8,8))\n",
    "\n",
    "cor = titanic3.corr(method=\"spearman\")\n",
    "\n",
    "sns.heatmap(cor, annot=True, cmap=plt.cm.Reds)\n",
    "\n",
    "plt.show()"
   ]
  },
  {
   "cell_type": "markdown",
   "metadata": {},
   "source": [
    "There are some items that have moderate correlation togethe however the variable that has the strongest correlation with the target variable is class. "
   ]
  },
  {
   "cell_type": "code",
   "execution_count": 26,
   "metadata": {},
   "outputs": [
    {
     "name": "stderr",
     "output_type": "stream",
     "text": [
      "/Users/vinicioharo/anaconda3/lib/python3.6/site-packages/ipykernel_launcher.py:10: SettingWithCopyWarning: \n",
      "A value is trying to be set on a copy of a slice from a DataFrame.\n",
      "Try using .loc[row_indexer,col_indexer] = value instead\n",
      "\n",
      "See the caveats in the documentation: http://pandas.pydata.org/pandas-docs/stable/indexing.html#indexing-view-versus-copy\n",
      "  # Remove the CWD from sys.path while we load stuff.\n"
     ]
    },
    {
     "data": {
      "text/html": [
       "<div>\n",
       "<style scoped>\n",
       "    .dataframe tbody tr th:only-of-type {\n",
       "        vertical-align: middle;\n",
       "    }\n",
       "\n",
       "    .dataframe tbody tr th {\n",
       "        vertical-align: top;\n",
       "    }\n",
       "\n",
       "    .dataframe thead th {\n",
       "        text-align: right;\n",
       "    }\n",
       "</style>\n",
       "<table border=\"1\" class=\"dataframe\">\n",
       "  <thead>\n",
       "    <tr style=\"text-align: right;\">\n",
       "      <th></th>\n",
       "      <th>Survived</th>\n",
       "      <th>Pclass</th>\n",
       "      <th>gender</th>\n",
       "      <th>SibSp</th>\n",
       "      <th>Parch</th>\n",
       "      <th>Fare</th>\n",
       "      <th>Embarked_S</th>\n",
       "      <th>Embarked_C</th>\n",
       "      <th>Embarked_Q</th>\n",
       "      <th>impute_age</th>\n",
       "    </tr>\n",
       "  </thead>\n",
       "  <tbody>\n",
       "    <tr>\n",
       "      <th>0</th>\n",
       "      <td>0</td>\n",
       "      <td>3</td>\n",
       "      <td>1</td>\n",
       "      <td>1</td>\n",
       "      <td>0</td>\n",
       "      <td>7.2500</td>\n",
       "      <td>1</td>\n",
       "      <td>0</td>\n",
       "      <td>0</td>\n",
       "      <td>22</td>\n",
       "    </tr>\n",
       "    <tr>\n",
       "      <th>1</th>\n",
       "      <td>1</td>\n",
       "      <td>1</td>\n",
       "      <td>0</td>\n",
       "      <td>1</td>\n",
       "      <td>0</td>\n",
       "      <td>71.2833</td>\n",
       "      <td>0</td>\n",
       "      <td>1</td>\n",
       "      <td>0</td>\n",
       "      <td>38</td>\n",
       "    </tr>\n",
       "    <tr>\n",
       "      <th>2</th>\n",
       "      <td>1</td>\n",
       "      <td>3</td>\n",
       "      <td>0</td>\n",
       "      <td>0</td>\n",
       "      <td>0</td>\n",
       "      <td>7.9250</td>\n",
       "      <td>1</td>\n",
       "      <td>0</td>\n",
       "      <td>0</td>\n",
       "      <td>26</td>\n",
       "    </tr>\n",
       "    <tr>\n",
       "      <th>3</th>\n",
       "      <td>1</td>\n",
       "      <td>1</td>\n",
       "      <td>0</td>\n",
       "      <td>1</td>\n",
       "      <td>0</td>\n",
       "      <td>53.1000</td>\n",
       "      <td>1</td>\n",
       "      <td>0</td>\n",
       "      <td>0</td>\n",
       "      <td>35</td>\n",
       "    </tr>\n",
       "    <tr>\n",
       "      <th>4</th>\n",
       "      <td>0</td>\n",
       "      <td>3</td>\n",
       "      <td>1</td>\n",
       "      <td>0</td>\n",
       "      <td>0</td>\n",
       "      <td>8.0500</td>\n",
       "      <td>1</td>\n",
       "      <td>0</td>\n",
       "      <td>0</td>\n",
       "      <td>35</td>\n",
       "    </tr>\n",
       "  </tbody>\n",
       "</table>\n",
       "</div>"
      ],
      "text/plain": [
       "   Survived  Pclass  gender  SibSp  Parch     Fare  Embarked_S  Embarked_C  \\\n",
       "0         0       3       1      1      0   7.2500           1           0   \n",
       "1         1       1       0      1      0  71.2833           0           1   \n",
       "2         1       3       0      0      0   7.9250           1           0   \n",
       "3         1       1       0      1      0  53.1000           1           0   \n",
       "4         0       3       1      0      0   8.0500           1           0   \n",
       "\n",
       "   Embarked_Q  impute_age  \n",
       "0           0          22  \n",
       "1           0          38  \n",
       "2           0          26  \n",
       "3           0          35  \n",
       "4           0          35  "
      ]
     },
     "execution_count": 26,
     "metadata": {},
     "output_type": "execute_result"
    }
   ],
   "source": [
    "# Impute Age with Mean\n",
    "titanic4=titanic3\n",
    "\n",
    "titanic4['impute_age'] = titanic4['Age'].fillna(titanic4.Age.mean())\n",
    "\n",
    "titanic4=titanic4.dropna()\n",
    "\n",
    "age_lowerlevel = list(map(lambda x: math.floor(x), titanic4.Age))\n",
    "\n",
    "titanic4['impute_age'] = age_lowerlevel\n",
    "\n",
    "titanic4 = titanic4.drop(['Age'], axis=1)\n",
    "\n",
    "titanic4.head()"
   ]
  },
  {
   "cell_type": "markdown",
   "metadata": {},
   "source": [
    "We no longer have any missing data. We impute embarked with the mean while imputing age with with mean as well. \n",
    "\n",
    "## III) Train Model"
   ]
  },
  {
   "cell_type": "code",
   "execution_count": 38,
   "metadata": {},
   "outputs": [],
   "source": [
    "X=titanic4.drop(columns='Survived')\n",
    "\n",
    "Y=titanic4['Survived'].copy() \n",
    "\n",
    "x_train, x_test, y_train, y_test=train_test_split(X, Y , test_size=0.2, random_state=100)"
   ]
  },
  {
   "cell_type": "code",
   "execution_count": 39,
   "metadata": {},
   "outputs": [
    {
     "data": {
      "text/plain": [
       "RandomForestClassifier(bootstrap=True, class_weight=None, criterion='gini',\n",
       "                       max_depth=5, max_features='auto', max_leaf_nodes=None,\n",
       "                       min_impurity_decrease=0.0, min_impurity_split=None,\n",
       "                       min_samples_leaf=1, min_samples_split=2,\n",
       "                       min_weight_fraction_leaf=0.0, n_estimators=2500,\n",
       "                       n_jobs=None, oob_score=False, random_state=None,\n",
       "                       verbose=0, warm_start=False)"
      ]
     },
     "execution_count": 39,
     "metadata": {},
     "output_type": "execute_result"
    }
   ],
   "source": [
    "from sklearn.ensemble import RandomForestClassifier\n",
    "\n",
    "model = RandomForestClassifier(n_estimators=2500, max_depth=5)\n",
    "\n",
    "model.fit(x_train, y_train)"
   ]
  },
  {
   "cell_type": "code",
   "execution_count": 40,
   "metadata": {},
   "outputs": [
    {
     "name": "stdout",
     "output_type": "stream",
     "text": [
      "              precision    recall  f1-score   support\n",
      "\n",
      "           0       0.85      0.94      0.89        94\n",
      "           1       0.85      0.67      0.75        49\n",
      "\n",
      "    accuracy                           0.85       143\n",
      "   macro avg       0.85      0.80      0.82       143\n",
      "weighted avg       0.85      0.85      0.84       143\n",
      "\n"
     ]
    }
   ],
   "source": [
    "pred_tree = model.predict(x_test)\n",
    "\n",
    "from sklearn.metrics import confusion_matrix,classification_report,precision_score\n",
    "\n",
    "print(classification_report(y_test,pred_tree))"
   ]
  },
  {
   "cell_type": "code",
   "execution_count": 41,
   "metadata": {},
   "outputs": [
    {
     "data": {
      "text/plain": [
       "<matplotlib.axes._subplots.AxesSubplot at 0x1c2724f1d0>"
      ]
     },
     "execution_count": 41,
     "metadata": {},
     "output_type": "execute_result"
    },
    {
     "data": {
      "image/png": "[encoded data removed]",
      "text/plain": [
       "<Figure size 432x288 with 1 Axes>"
      ]
     },
     "metadata": {},
     "output_type": "display_data"
    }
   ],
   "source": [
    "import seaborn as sns\n",
    "\n",
    "sns.heatmap(confusion_matrix(y_test,pred_tree),cmap=\"viridis\",lw = 2,annot=True,cbar=False)"
   ]
  },
  {
   "cell_type": "markdown",
   "metadata": {},
   "source": [
    "We achieve 85 percent accuracy. We achieve 85% precision by correctly predicting survivals as survivals. We predicted 94% of deatsh as deaths. From our confusion matrix, we predicted 88 death correctly, 33 survivals correctly, 6 deaths as survivals, and 16 survivals as deaths. \n",
    "\n",
    "Can we improve our accuracy with feature importance? \n",
    "\n",
    "\n",
    "### Feature Selection Using Decision Tree \n",
    "\n",
    "https://scikit-learn.org/stable/auto_examples/ensemble/plot_forest_importances.html\n",
    "\n",
    "We will be using this method to evaluate the importance of features. But what is actually happening on the backend? \n",
    "\n",
    "$ni_j = w_j c_j - w_{left(j)} c_{left(j)} - w_{right(j)} c_{right(j)} $\n",
    "\n",
    "* Ni stands for the importance of node j\n",
    "\n",
    "* Wj is the weighted number of samples reaching node j \n",
    "\n",
    "* Cj is the impurity value of node j\n",
    "\n",
    "* leftj is the child node from left split on node j \n",
    "\n",
    "* right is the child node from right plit on node j\n",
    "\n",
    "After making this calculation, the importance for each feature on a decision tree is calculated with the following formula: \n",
    "\n",
    "$fi_i = \\frac{   (\\sum_{j:nodesplitOni})  ni_j }{  (\\sum_{all_nodes})  ni_k } $ \n",
    "\n",
    "We then normalize as follows: \n",
    "\n",
    "$normfi_j=\\frac{fi_j}{\\sum_{allfeature} fi_j}$\n",
    "\n",
    "The final feature importance is the average over all trees. We find the sum of the features importance value and then divide by all trees T\n",
    "\n",
    "$RFfi_j=\\frac{\\sum_{allTrees} norm(fi_{ij} }{T}$"
   ]
  },
  {
   "cell_type": "code",
   "execution_count": 44,
   "metadata": {},
   "outputs": [],
   "source": [
    "from sklearn.datasets import make_classification\n",
    "\n",
    "from sklearn.ensemble import ExtraTreesClassifier\n",
    "\n",
    "forest = ExtraTreesClassifier(n_estimators=250,random_state=0)\n",
    "\n",
    "forest.fit(X, Y)\n",
    "\n",
    "importances = forest.feature_importances_\n",
    "\n",
    "std = np.std([tree.feature_importances_ for tree in forest.estimators_],axis=0)\n",
    "\n",
    "indices = np.argsort(importances)[::-1]"
   ]
  },
  {
   "cell_type": "code",
   "execution_count": 45,
   "metadata": {},
   "outputs": [
    {
     "data": {
      "image/png": "[encoded data removed]",
      "text/plain": [
       "<Figure size 2880x1440 with 1 Axes>"
      ]
     },
     "metadata": {},
     "output_type": "display_data"
    }
   ],
   "source": [
    "# Plot the feature importances of the forest\n",
    "plt.figure(figsize=(40,20))\n",
    "\n",
    "plt.title(\"Feature importances\")\n",
    "\n",
    "plt.bar(range(X.shape[1]), importances[indices],color=\"r\", yerr=std[indices], align=\"center\")\n",
    "\n",
    "plt.xticks(range(X.shape[1]), indices)\n",
    "\n",
    "plt.xlim([-1, X.shape[1]])\n",
    "\n",
    "plt.show()"
   ]
  },
  {
   "cell_type": "code",
   "execution_count": 46,
   "metadata": {},
   "outputs": [
    {
     "name": "stdout",
     "output_type": "stream",
     "text": [
      "Variable: gender               Importance: 0.28\n",
      "Variable: impute_age           Importance: 0.27\n",
      "Variable: Fare                 Importance: 0.23\n",
      "Variable: Pclass               Importance: 0.11\n",
      "Variable: SibSp                Importance: 0.04\n",
      "Variable: Parch                Importance: 0.04\n",
      "Variable: Embarked_C           Importance: 0.02\n",
      "Variable: Embarked_S           Importance: 0.01\n",
      "Variable: Embarked_Q           Importance: 0.0\n"
     ]
    }
   ],
   "source": [
    "#Display the actual variables\n",
    "feature_list = list(X.columns)\n",
    "\n",
    "# Get numerical feature importances\n",
    "importances = list(forest.feature_importances_)\n",
    "\n",
    "# List of tuples with variable and importance\n",
    "feature_importances = [(feature, round(importance, 2)) for feature, importance in zip(feature_list, importances)]\n",
    "\n",
    "# Sort the feature importances by most important first\n",
    "feature_importances = sorted(feature_importances, key = lambda x: x[1], reverse = True)\n",
    "\n",
    "# Print out the feature and importances \n",
    "[print('Variable: {:20} Importance: {}'.format(*pair)) for pair in feature_importances];"
   ]
  },
  {
   "cell_type": "markdown",
   "metadata": {},
   "source": [
    "By performing feature importance, we can see that gender is the most important variable. EmbarkedQ has virtually no importance so lets build another model where we omitt embarkedQ and embarkedS. What is interesting is that embarkedC was the only port that has the higher instances of survival. "
   ]
  },
  {
   "cell_type": "code",
   "execution_count": 49,
   "metadata": {},
   "outputs": [
    {
     "name": "stdout",
     "output_type": "stream",
     "text": [
      "              precision    recall  f1-score   support\n",
      "\n",
      "           0       0.84      0.93      0.88        94\n",
      "           1       0.82      0.67      0.74        49\n",
      "\n",
      "    accuracy                           0.84       143\n",
      "   macro avg       0.83      0.80      0.81       143\n",
      "weighted avg       0.84      0.84      0.83       143\n",
      "\n"
     ]
    }
   ],
   "source": [
    "X=titanic4.drop(columns=['Survived','Embarked_Q','Embarked_S'])\n",
    "\n",
    "Y=titanic4['Survived'].copy() \n",
    "\n",
    "x_train, x_test, y_train, y_test=train_test_split(X, Y , test_size=0.2, random_state=100)\n",
    "\n",
    "model = RandomForestClassifier(n_estimators=2500, max_depth=5)\n",
    "\n",
    "model.fit(x_train, y_train)\n",
    "\n",
    "pred_tree = model.predict(x_test)\n",
    "\n",
    "print(classification_report(y_test,pred_tree))"
   ]
  },
  {
   "cell_type": "code",
   "execution_count": 50,
   "metadata": {},
   "outputs": [
    {
     "data": {
      "text/plain": [
       "<matplotlib.axes._subplots.AxesSubplot at 0x1141fa048>"
      ]
     },
     "execution_count": 50,
     "metadata": {},
     "output_type": "execute_result"
    },
    {
     "data": {
      "image/png": "[encoded data removed]",
      "text/plain": [
       "<Figure size 432x288 with 1 Axes>"
      ]
     },
     "metadata": {},
     "output_type": "display_data"
    }
   ],
   "source": [
    "import seaborn as sns\n",
    "\n",
    "sns.heatmap(confusion_matrix(y_test,pred_tree),cmap=\"viridis\",lw = 2,annot=True,cbar=False)"
   ]
  },
  {
   "cell_type": "markdown",
   "metadata": {},
   "source": [
    "We have a marginal decrease in accuracy, precision, and recall yet our model is now much simpler. I believe it may be a benefit to remove these extra variables without causing a major change in model classification metrics. "
   ]
  },
  {
   "cell_type": "code",
   "execution_count": null,
   "metadata": {},
   "outputs": [],
   "source": []
  }
 ],
 "metadata": {
  "kernelspec": {
   "display_name": "Python 3",
   "language": "python",
   "name": "python3"
  },
  "language_info": {
   "codemirror_mode": {
    "name": "ipython",
    "version": 3
   },
   "file_extension": ".py",
   "mimetype": "text/x-python",
   "name": "python",
   "nbconvert_exporter": "python",
   "pygments_lexer": "ipython3",
   "version": "3.6.8"
  }
 },
 "nbformat": 4,
 "nbformat_minor": 2
}

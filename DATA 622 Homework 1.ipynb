{
 "cells": [
  {
   "cell_type": "markdown",
   "metadata": {},
   "source": [
    "# DATA 622 \n",
    "## Homework 1 \n",
    "Vinicio Haro\n",
    "CUNY SPS"
   ]
  },
  {
   "cell_type": "markdown",
   "metadata": {},
   "source": [
    "### Python Coding (7 points) Please write python programs for the following two questions."
   ]
  },
  {
   "cell_type": "markdown",
   "metadata": {},
   "source": [
    "####  1) Write a Python Program to Find the Second Samllest Number in a List?\n",
    "\n",
    "The function is going to be rather simple. We take in some list of numbers and we use sort to order the numbers numerically. We assume the index of the ordered list will be 0,1,2,...n thus we return the number associated with index 1. This should be the second smallest number assuming the lowest is in index position 0 and the highest in index position n. "
   ]
  },
  {
   "cell_type": "code",
   "execution_count": 5,
   "metadata": {},
   "outputs": [],
   "source": [
    "#Write a simple function\n",
    "def second_smallest_number_sorter(n):\n",
    " \n",
    "    n.sort() #order numbers lowest the greatest\n",
    "\n",
    "    return n[1] #grab number in index positon 1 (2nd number)"
   ]
  },
  {
   "cell_type": "code",
   "execution_count": 6,
   "metadata": {},
   "outputs": [
    {
     "name": "stdout",
     "output_type": "stream",
     "text": [
      "The second Smallest Number is  9\n"
     ]
    }
   ],
   "source": [
    "#Test the simple function \n",
    "n=[9,26,2,12]\n",
    "\n",
    "print(\"The second Smallest Number is \",second_smallest_number_sorter(n))"
   ]
  },
  {
   "cell_type": "code",
   "execution_count": 7,
   "metadata": {},
   "outputs": [
    {
     "name": "stdout",
     "output_type": "stream",
     "text": [
      "The second Smallest Number is  2\n"
     ]
    }
   ],
   "source": [
    "#Test with repeated numbers \n",
    "n=[2,2,5,8]\n",
    "\n",
    "print(\"The second Smallest Number is \",second_smallest_number_sorter(n))"
   ]
  },
  {
   "cell_type": "code",
   "execution_count": 8,
   "metadata": {},
   "outputs": [
    {
     "name": "stdout",
     "output_type": "stream",
     "text": [
      "The second Smallest Number is  2.6\n"
     ]
    }
   ],
   "source": [
    "#Test with non integers\n",
    "n=[2.0001,2.6,5.2,8.5]\n",
    "\n",
    "print(\"The second Smallest Number is \",second_smallest_number_sorter(n))"
   ]
  },
  {
   "cell_type": "code",
   "execution_count": 9,
   "metadata": {},
   "outputs": [
    {
     "name": "stdout",
     "output_type": "stream",
     "text": [
      "The second Smallest Number is  -5\n"
     ]
    }
   ],
   "source": [
    "#Test with negatives\n",
    "n=[-5, 35, -900]\n",
    "\n",
    "print(\"The second Smallest Number is \",second_smallest_number_sorter(n))"
   ]
  },
  {
   "cell_type": "markdown",
   "metadata": {},
   "source": [
    "#### 2) Two words are anagrams of each other if they contain the same number of characters and the same characters. Please write a function to test if two words are anagrams. e.g. cautioned is an anagram for education.\n",
    "\n",
    "We will be using sort to our advantage for this problem. If we let our function take in two words, then we can sort those two words by letter and see if word1=word2. By definition, an anagram contains the same number of charatcers and the same charatcers. "
   ]
  },
  {
   "cell_type": "code",
   "execution_count": 11,
   "metadata": {},
   "outputs": [],
   "source": [
    "def anagram_scan(w1, w2): \n",
    "      \n",
    "    if(sorted(w1)== sorted(w2)): \n",
    "        \n",
    "        print(\"IS anagram\")  \n",
    "        \n",
    "    else: \n",
    "        \n",
    "        print(\"IS NOT anagram\")  "
   ]
  },
  {
   "cell_type": "code",
   "execution_count": 12,
   "metadata": {},
   "outputs": [
    {
     "name": "stdout",
     "output_type": "stream",
     "text": [
      "IS NOT anagram\n"
     ]
    }
   ],
   "source": [
    "#test with non anagrams\n",
    "w1=\"hello\"\n",
    "\n",
    "w2=\"greetings\"\n",
    "\n",
    "anagram_scan(w1, w2)"
   ]
  },
  {
   "cell_type": "code",
   "execution_count": 13,
   "metadata": {},
   "outputs": [
    {
     "name": "stdout",
     "output_type": "stream",
     "text": [
      "IS anagram\n"
     ]
    }
   ],
   "source": [
    "#Test with one anagram \n",
    "w1=\"debit card\"\n",
    "\n",
    "w2=\"bad credit\"\n",
    "\n",
    "anagram_scan(w1, w2)"
   ]
  },
  {
   "cell_type": "code",
   "execution_count": 15,
   "metadata": {},
   "outputs": [
    {
     "name": "stdout",
     "output_type": "stream",
     "text": [
      "IS NOT anagram\n"
     ]
    }
   ],
   "source": [
    "#additional test using special charatcers\n",
    "w1=\"bad-credit\"\n",
    "\n",
    "w2=\"debit card\"\n",
    "\n",
    "anagram_scan(w1, w2)"
   ]
  },
  {
   "cell_type": "markdown",
   "metadata": {},
   "source": [
    "#### 3) Write a short paragraph (around ~200 words total) on the following topics:\n",
    "the role \"environment\" plays in a data scientist's workflow (the readings from #1 & #2 will cover this)\n",
    "\n",
    "the difference between Docker & Anaconda, and why some data science teams prefer to use the two together (you will need to do more research on this outside of the articles listed above)"
   ]
  },
  {
   "attachments": {},
   "cell_type": "markdown",
   "metadata": {},
   "source": [
    "##### Q1\n",
    "The environment plays a crucial role in the day-to-day workflow of a data scientist. A data scientist needs an environment that offers library control plus the ability to run code ad hoc in order to perform tests or optimize existing code.  A good environment can facilitate communication of insights and visualizations to key stakeholders in a streamlined process. \n",
    "\n",
    "As of late, I have been using the anaconda environment for academics Anaconda has been a great resource for running scripts in Spyder while making visualizations/reports using Jupyter Notebooks. Conda install makes downloading the packages a painless process. I find myself using conda install a few times a week actually. \n",
    "\n",
    "At my job, I am using the Google Cloud Platform Environment. There are several things that I have access through the GCP environment that empower the word I do. The first is Google BigQuery. I would estimate that 90% of my workflow is to prepare data for analysis using BQ. The other 10% is split between running scripts on Data-Proc or putting together reports for stakeholders using Google’s AI platform. All of these elements used together have greatly expanded the depth of what is possible. An environment can limit or hinder a data scientist. "
   ]
  },
  {
   "attachments": {},
   "cell_type": "markdown",
   "metadata": {},
   "source": [
    "##### Q2\n",
    "\n",
    "To answer the question on what is the difference between Anaconda and Docker, we need to understand what each of these is. \n",
    "\n",
    "Anaconda is essentially a package manager and an open source distribution of both the r language and python language. Package and library distribution is managed by conda, which is a sub feature of the overall anaconda environment.\n",
    "https://en.wikipedia.org/wiki/Anaconda_(Python_distribution)\n",
    "\n",
    "Docker is a deployment facilitator that allows a user to deploy scripts to a production environment.  This is not to be confused with a virtual machine. \n",
    "https://djangostars.com/blog/what-is-docker-and-how-to-use-it-with-python/\n",
    "\n",
    "What makes Docker and Anaconda Different? Docker allows a user to isolate a process including all dependencies in said process and passes it along to a production destination. If the process is self-contained, finding bugs and adapting code will run far more efficiently. Conda’s package manager does not have the isolating element; hence a process can break if it’s passed to production without having dependencies pre-installed. \n",
    "https://www.slant.co/versus/1592/5880/~conda_vs_docker\n",
    "https://towardsdatascience.com/some-important-data-science-tools-that-arent-python-r-sql-or-math-96a109fa56d\n"
   ]
  },
  {
   "cell_type": "code",
   "execution_count": null,
   "metadata": {},
   "outputs": [],
   "source": []
  }
 ],
 "metadata": {
  "kernelspec": {
   "display_name": "Python 3",
   "language": "python",
   "name": "python3"
  },
  "language_info": {
   "codemirror_mode": {
    "name": "ipython",
    "version": 3
   },
   "file_extension": ".py",
   "mimetype": "text/x-python",
   "name": "python",
   "nbconvert_exporter": "python",
   "pygments_lexer": "ipython3",
   "version": "3.6.8"
  }
 },
 "nbformat": 4,
 "nbformat_minor": 2
}

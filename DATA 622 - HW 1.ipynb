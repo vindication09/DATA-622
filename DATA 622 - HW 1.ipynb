{
 "cells": [
  {
   "cell_type": "markdown",
   "metadata": {},
   "source": [
    "Haro, Vinicio \n",
    "DATA 622 \n",
    "HW 1 "
   ]
  },
  {
   "cell_type": "markdown",
   "metadata": {},
   "source": [
    "## Python Coding (7 points) Please write python programs for the following two questions.\n"
   ]
  },
  {
   "cell_type": "markdown",
   "metadata": {},
   "source": [
    "### Write a Python Program to Find the Second Samllest Number in a List?"
   ]
  },
  {
   "cell_type": "code",
   "execution_count": 1,
   "metadata": {},
   "outputs": [],
   "source": [
    "def second_smallest(numbers):\n",
    "    \n",
    "    m1, m2 = float('inf'), float('inf')\n",
    "    \n",
    "    for x in numbers:\n",
    "        \n",
    "        if x <= m1:\n",
    "            \n",
    "            m1, m2 = x, m1\n",
    "            \n",
    "        elif x < m2:\n",
    "            \n",
    "            m2 = x\n",
    "            \n",
    "    return m2"
   ]
  },
  {
   "cell_type": "code",
   "execution_count": 2,
   "metadata": {},
   "outputs": [
    {
     "data": {
      "text/plain": [
       "2"
      ]
     },
     "execution_count": 2,
     "metadata": {},
     "output_type": "execute_result"
    }
   ],
   "source": [
    "#Test \n",
    "numbers=[1,2,5,7,9]\n",
    "\n",
    "second_smallest(numbers)"
   ]
  },
  {
   "cell_type": "markdown",
   "metadata": {},
   "source": [
    "### Two words are anagrams of each other if they contain the same number of characters and the same characters. Please write a function to test if two words are anagrams. e.g. cautioned is an anagram for education."
   ]
  },
  {
   "cell_type": "code",
   "execution_count": null,
   "metadata": {},
   "outputs": [],
   "source": []
  }
 ],
 "metadata": {
  "kernelspec": {
   "display_name": "Python 3",
   "language": "python",
   "name": "python3"
  },
  "language_info": {
   "codemirror_mode": {
    "name": "ipython",
    "version": 3
   },
   "file_extension": ".py",
   "mimetype": "text/x-python",
   "name": "python",
   "nbconvert_exporter": "python",
   "pygments_lexer": "ipython3",
   "version": "3.6.4"
  }
 },
 "nbformat": 4,
 "nbformat_minor": 2
}

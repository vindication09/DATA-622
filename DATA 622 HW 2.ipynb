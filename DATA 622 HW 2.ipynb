{
 "cells": [
  {
   "cell_type": "markdown",
   "metadata": {},
   "source": [
    "# DATA 622 # hw2\n",
    "\n",
    "Assigned on September 15, 2018\n",
    "Due on October 6, 2019 11:59 PM EST\n",
    "17 points possible, worth 17% of your final grade\n",
    "Required Reading\n",
    "Read Chapter 4 of the Deep Learning Book Read Chapter 5 of the Deep Learning Book Read Chapter 1 of the Agile Data Science 2.0 textbook\n",
    "\n",
    "Data Pipeline using Python (13 points total)\n",
    "\n",
    "Build a data pipeline in Python that downloads data using the urls given below, trains a random forest model on the training dataset using sklearn and scores the model on the test dataset.\n",
    "\n",
    "Scoring Rubric\n",
    "\n",
    "The homework will be scored based on code efficiency (hint: use functions, not stream of consciousness coding), code cleaniless, code reproducibility, and critical thinking (hint: commenting lets me know what you are thinking!) Instructions:\n",
    "\n",
    "Submit the following 5 items on github. ReadMe.md (see \"Critical Thinking\") requirements.txt pull_data.py train_model.py score_model.py\n",
    "\n",
    "More details:\n",
    "\n",
    "requirements.txt (2 point) This file documents all dependencies needed on top of the existing packages in the Docker Dataquest image from HW1. When called upon using pip install -r requirements.txt , this will install all python packages needed to run the .py files. (hint: use pip freeze to generate the .txt file)\n",
    "\n",
    "pull_data.py (5 points) When this is called using python pull_data.py in the command line, this will go to the 2 Kaggle urls provided below, authenticate using your own Kaggle sign on, pull the two datasets, and save as .csv files in the current local directory. The authentication login details (aka secrets) need to be in a hidden folder (hint: use .gitignore). There must be a data check step to ensure the data has been pulled correctly and clear commenting and documentation for each step inside the .py file. Training dataset url: https://www.kaggle.com/c/titanic/download/train.csv Scoring dataset url: https://www.kaggle.com/c/titanic/download/test.csv\n",
    "\n",
    "train_model.py (5 points) When this is called using python train_model.py in the command line, this will take in the training dataset csv, perform the necessary data cleaning and imputation, and fit a classification model to the dependent Y. There must be data check steps and clear commenting for each step inside the .py file. The output for running this file is the random forest model saved as a .pkl file in the local directory. Remember that the thought process and decision for why you chose the final model must be clearly documented in this section. eda.ipynb (0 points)\n",
    "\n",
    "[Optional] This supplements the commenting inside train_model.py. This is the place to provide scratch work and plots to convince me why you did certain data imputations and manipulations inside the train_model.py file.\n",
    "\n",
    "score_model.py (2 points) When this is called using python score_model.py in the command line, this will ingest the .pkl random forest file and apply the model to the locally saved scoring dataset csv. There must be data check steps and clear commenting for each step inside the .py file. The output for running this file is a csv file with the predicted score, as well as a png or text file output that contains the model accuracy report (e.g. sklearn's classification report or any other way of model evaluation).\n",
    "\n",
    "Critical Thinking (3 points total) Modify this ReadMe file to answer the following questions directly in place.\n",
    "Kaggle changes links/ file locations/login process/ file content\n",
    "We run out of space on HD / local permissions issue - can't save files\n",
    "Someone updated python packages and there is unintended effect (functions retired or act differently)\n",
    "Docker issues - lost internet within docker due to some ip binding to vm or local routing issues( I guess this falls under lost internet, but I am talking more if docker is the cause rather then ISP)"
   ]
  },
  {
   "cell_type": "markdown",
   "metadata": {},
   "source": [
    "## I) Requirements\n",
    "\n",
    "This txt file will list all required dependicies needed for this project."
   ]
  },
  {
   "cell_type": "raw",
   "metadata": {},
   "source": [
    "kaggle\n",
    "pandas\n",
    "matplotlib\n",
    "scipy\n",
    "seaborn\n",
    "numpy\n",
    "sklearn\n",
    "missingpy"
   ]
  },
  {
   "cell_type": "markdown",
   "metadata": {},
   "source": [
    "We need to create a virtual python 3 env. pointed to the directory where the following scripts/files will live:\n",
    "\n",
    "* pull_data.py\n",
    "\n",
    "* train_model.py\n",
    "\n",
    "* score_model.py\n",
    "\n",
    "* requirements.txt\n",
    "\n",
    "Requirements will be installed in the env. using pip install -r requirements.txt. \n",
    "\n",
    "The remainig scripts will run using something simialr to:\n",
    "\n",
    "* python.exe C:\\Users\\traveler\\Desktop\\pyscript\\pull_data.py\n",
    "\n",
    "* python.exe C:\\Users\\traveler\\Desktop\\pyscript\\train_model.py\n",
    "\n",
    "* python.exe C:\\Users\\traveler\\Desktop\\pyscript\\score_model.py"
   ]
  },
  {
   "cell_type": "markdown",
   "metadata": {},
   "source": [
    "## II) Pull Data \n",
    "\n",
    "This script will find the kaggle.json file, which was generated by downloading the API token from kaggle. Once the credentials have been passed, the script will locate the titanic data and download it locally. We will re-define the data since part of this process requires model diagnostics. The test data will now be called validation while the train data will be called titanic. We will partition titanic into test and train then simulate deployment on validation."
   ]
  },
  {
   "cell_type": "code",
   "execution_count": 2,
   "metadata": {},
   "outputs": [
    {
     "data": {
      "text/html": [
       "<div>\n",
       "<style scoped>\n",
       "    .dataframe tbody tr th:only-of-type {\n",
       "        vertical-align: middle;\n",
       "    }\n",
       "\n",
       "    .dataframe tbody tr th {\n",
       "        vertical-align: top;\n",
       "    }\n",
       "\n",
       "    .dataframe thead th {\n",
       "        text-align: right;\n",
       "    }\n",
       "</style>\n",
       "<table border=\"1\" class=\"dataframe\">\n",
       "  <thead>\n",
       "    <tr style=\"text-align: right;\">\n",
       "      <th></th>\n",
       "      <th>PassengerId</th>\n",
       "      <th>Survived</th>\n",
       "      <th>Pclass</th>\n",
       "      <th>Name</th>\n",
       "      <th>Sex</th>\n",
       "      <th>Age</th>\n",
       "      <th>SibSp</th>\n",
       "      <th>Parch</th>\n",
       "      <th>Ticket</th>\n",
       "      <th>Fare</th>\n",
       "      <th>Cabin</th>\n",
       "      <th>Embarked</th>\n",
       "    </tr>\n",
       "  </thead>\n",
       "  <tbody>\n",
       "    <tr>\n",
       "      <th>0</th>\n",
       "      <td>1</td>\n",
       "      <td>0</td>\n",
       "      <td>3</td>\n",
       "      <td>Braund, Mr. Owen Harris</td>\n",
       "      <td>male</td>\n",
       "      <td>22.0</td>\n",
       "      <td>1</td>\n",
       "      <td>0</td>\n",
       "      <td>A/5 21171</td>\n",
       "      <td>7.2500</td>\n",
       "      <td>NaN</td>\n",
       "      <td>S</td>\n",
       "    </tr>\n",
       "    <tr>\n",
       "      <th>1</th>\n",
       "      <td>2</td>\n",
       "      <td>1</td>\n",
       "      <td>1</td>\n",
       "      <td>Cumings, Mrs. John Bradley (Florence Briggs Th...</td>\n",
       "      <td>female</td>\n",
       "      <td>38.0</td>\n",
       "      <td>1</td>\n",
       "      <td>0</td>\n",
       "      <td>PC 17599</td>\n",
       "      <td>71.2833</td>\n",
       "      <td>C85</td>\n",
       "      <td>C</td>\n",
       "    </tr>\n",
       "    <tr>\n",
       "      <th>2</th>\n",
       "      <td>3</td>\n",
       "      <td>1</td>\n",
       "      <td>3</td>\n",
       "      <td>Heikkinen, Miss. Laina</td>\n",
       "      <td>female</td>\n",
       "      <td>26.0</td>\n",
       "      <td>0</td>\n",
       "      <td>0</td>\n",
       "      <td>STON/O2. 3101282</td>\n",
       "      <td>7.9250</td>\n",
       "      <td>NaN</td>\n",
       "      <td>S</td>\n",
       "    </tr>\n",
       "    <tr>\n",
       "      <th>3</th>\n",
       "      <td>4</td>\n",
       "      <td>1</td>\n",
       "      <td>1</td>\n",
       "      <td>Futrelle, Mrs. Jacques Heath (Lily May Peel)</td>\n",
       "      <td>female</td>\n",
       "      <td>35.0</td>\n",
       "      <td>1</td>\n",
       "      <td>0</td>\n",
       "      <td>113803</td>\n",
       "      <td>53.1000</td>\n",
       "      <td>C123</td>\n",
       "      <td>S</td>\n",
       "    </tr>\n",
       "    <tr>\n",
       "      <th>4</th>\n",
       "      <td>5</td>\n",
       "      <td>0</td>\n",
       "      <td>3</td>\n",
       "      <td>Allen, Mr. William Henry</td>\n",
       "      <td>male</td>\n",
       "      <td>35.0</td>\n",
       "      <td>0</td>\n",
       "      <td>0</td>\n",
       "      <td>373450</td>\n",
       "      <td>8.0500</td>\n",
       "      <td>NaN</td>\n",
       "      <td>S</td>\n",
       "    </tr>\n",
       "  </tbody>\n",
       "</table>\n",
       "</div>"
      ],
      "text/plain": [
       "   PassengerId  Survived  Pclass  \\\n",
       "0            1         0       3   \n",
       "1            2         1       1   \n",
       "2            3         1       3   \n",
       "3            4         1       1   \n",
       "4            5         0       3   \n",
       "\n",
       "                                                Name     Sex   Age  SibSp  \\\n",
       "0                            Braund, Mr. Owen Harris    male  22.0      1   \n",
       "1  Cumings, Mrs. John Bradley (Florence Briggs Th...  female  38.0      1   \n",
       "2                             Heikkinen, Miss. Laina  female  26.0      0   \n",
       "3       Futrelle, Mrs. Jacques Heath (Lily May Peel)  female  35.0      1   \n",
       "4                           Allen, Mr. William Henry    male  35.0      0   \n",
       "\n",
       "   Parch            Ticket     Fare Cabin Embarked  \n",
       "0      0         A/5 21171   7.2500   NaN        S  \n",
       "1      0          PC 17599  71.2833   C85        C  \n",
       "2      0  STON/O2. 3101282   7.9250   NaN        S  \n",
       "3      0            113803  53.1000  C123        S  \n",
       "4      0            373450   8.0500   NaN        S  "
      ]
     },
     "execution_count": 2,
     "metadata": {},
     "output_type": "execute_result"
    }
   ],
   "source": [
    "import os\n",
    "import zipfile\n",
    "import pandas as pd\n",
    "from kaggle.api.kaggle_api_extended import KaggleApi\n",
    "\n",
    "api = KaggleApi('{\"username\":\"vindication09\",\"key\":\"dd1b03f9210cced82665684af4672b29\"}')\n",
    "api.authenticate()\n",
    "api.competition_download_files(\"titanic\")\n",
    "\n",
    "zf = zipfile.ZipFile('titanic.zip') # importing zip file from local path\n",
    "\n",
    "titanic = pd.read_csv(zf.open('train.csv')) # open train.csv\n",
    "\n",
    "validation = pd.read_csv(zf.open('test.csv')) # open test.csv\n",
    "\n",
    "titanic.head()"
   ]
  },
  {
   "cell_type": "markdown",
   "metadata": {},
   "source": [
    "## EDA (Optional)\n",
    "\n",
    "This is a file that will convince the reader as to why certain data processing methods were used. We also use this section to examine distributions and missing data analysis. "
   ]
  },
  {
   "cell_type": "code",
   "execution_count": 76,
   "metadata": {},
   "outputs": [],
   "source": [
    "import pandas as pd\n",
    "\n",
    "import numpy as np\n",
    "\n",
    "import matplotlib.pyplot as plt \n",
    "\n",
    "from sklearn.model_selection import train_test_split\n",
    "\n",
    "from sklearn.preprocessing import LabelEncoder\n",
    "\n",
    "from sklearn.preprocessing import OneHotEncoder\n",
    "\n",
    "import category_encoders as ce\n",
    "\n",
    "from sklearn.tree import DecisionTreeClassifier\n",
    "\n",
    "from sklearn.metrics import confusion_matrix,classification_report,precision_score\n",
    "\n",
    "import seaborn as sns\n",
    "\n",
    "from IPython.display import Image  \n",
    "\n",
    "from sklearn.externals.six import StringIO  \n",
    "\n",
    "from sklearn.tree import export_graphviz\n",
    "\n",
    "import pydot\n",
    "\n",
    "from sklearn.feature_selection import RFE\n",
    "\n",
    "from sklearn.linear_model import LogisticRegression\n",
    "\n",
    "import statsmodels.api as sm\n",
    "\n",
    "from sklearn.naive_bayes import GaussianNB, BernoulliNB, MultinomialNB\n",
    "\n",
    "from pandasql import sqldf\n",
    "\n",
    "from IPython.display import Image  \n",
    "\n",
    "from sklearn.externals.six import StringIO  \n",
    "\n",
    "from sklearn.tree import export_graphviz\n",
    "\n",
    "import pydot\n",
    "\n",
    "from sklearn.ensemble import RandomForestClassifier\n",
    "\n",
    "import pickle"
   ]
  },
  {
   "cell_type": "markdown",
   "metadata": {},
   "source": [
    "### EDA - Missing Data \n",
    "\n",
    "This will help us get a sense of what variables we should impute."
   ]
  },
  {
   "cell_type": "code",
   "execution_count": 5,
   "metadata": {},
   "outputs": [
    {
     "data": {
      "text/plain": [
       "<matplotlib.axes._subplots.AxesSubplot at 0x24cf2de24e0>"
      ]
     },
     "execution_count": 5,
     "metadata": {},
     "output_type": "execute_result"
    },
    {
     "data": {
      "image/png": "[encoded data removed]",
      "text/plain": [
       "<matplotlib.figure.Figure at 0x24cee9d6a90>"
      ]
     },
     "metadata": {},
     "output_type": "display_data"
    }
   ],
   "source": [
    "#missing value analysis \n",
    "\n",
    "titanic.isnull().sum().plot(kind=\"bar\", figsize=(12,10))"
   ]
  },
  {
   "cell_type": "markdown",
   "metadata": {},
   "source": [
    "We can see that Cabin has the highest number of missing entries followed by Age and Embarked. We do not know what percentage of the data frame is composed of missing data for each variable. "
   ]
  },
  {
   "cell_type": "code",
   "execution_count": 6,
   "metadata": {},
   "outputs": [
    {
     "data": {
      "text/plain": [
       "PassengerId    0.000000\n",
       "Survived       0.000000\n",
       "Pclass         0.000000\n",
       "Name           0.000000\n",
       "Sex            0.000000\n",
       "Age            0.198653\n",
       "SibSp          0.000000\n",
       "Parch          0.000000\n",
       "Ticket         0.000000\n",
       "Fare           0.000000\n",
       "Cabin          0.771044\n",
       "Embarked       0.002245\n",
       "dtype: float64"
      ]
     },
     "execution_count": 6,
     "metadata": {},
     "output_type": "execute_result"
    }
   ],
   "source": [
    "missing = titanic.isna()\n",
    "\n",
    "missing_count=missing.sum()\n",
    "\n",
    "missing_count/len(titanic)"
   ]
  },
  {
   "cell_type": "markdown",
   "metadata": {},
   "source": [
    "We can see that Cabin is missing over 70% of Data. Typically, this is way beyond the acepted threshold and could be eliminated, however Class is a cabin number. Without features of the cabin it's self, I do not think Cabin will be important. Cabin would be more useful if we knew deck level, size, proximity to exits etc... This is hypothetical. \n",
    "\n",
    "Please see this discussion where Data people discuss the right threshold for missing data \n",
    "https://discuss.analyticsvidhya.com/t/what-should-be-the-allowed-percentage-of-missing-values/2456\n",
    "\n",
    "### EDA- Distributions"
   ]
  },
  {
   "cell_type": "code",
   "execution_count": 8,
   "metadata": {},
   "outputs": [
    {
     "data": {
      "text/plain": [
       "<matplotlib.axes._subplots.AxesSubplot at 0x24cf3723a90>"
      ]
     },
     "execution_count": 8,
     "metadata": {},
     "output_type": "execute_result"
    },
    {
     "data": {
      "image/png": "[encoded data removed]",
      "text/plain": [
       "<matplotlib.figure.Figure at 0x24cf3723390>"
      ]
     },
     "metadata": {},
     "output_type": "display_data"
    }
   ],
   "source": [
    "#Distribution of Reponse variable \n",
    "\n",
    "titanic.groupby(\"Survived\").size().plot(kind='bar', figsize=(10,10))"
   ]
  },
  {
   "cell_type": "markdown",
   "metadata": {},
   "source": [
    "There does not seem to be a terrible imbalance in the response variable. Lets examine the distributions of survived /not survived for categorical variables. "
   ]
  },
  {
   "cell_type": "code",
   "execution_count": 9,
   "metadata": {},
   "outputs": [
    {
     "data": {
      "text/plain": [
       "Text(0,0.5,'Class')"
      ]
     },
     "execution_count": 9,
     "metadata": {},
     "output_type": "execute_result"
    },
    {
     "data": {
      "image/png": "[encoded data removed]",
      "text/plain": [
       "<matplotlib.figure.Figure at 0x24cf3783e10>"
      ]
     },
     "metadata": {},
     "output_type": "display_data"
    }
   ],
   "source": [
    "%matplotlib inline \n",
    "\n",
    "pd.crosstab(titanic['Pclass'],titanic['Survived']).plot(kind='bar', figsize=(10,10))\n",
    "\n",
    "plt.title('Number of Survivers/Deaths By Class')\n",
    "\n",
    "plt.xlabel('People')\n",
    "\n",
    "plt.ylabel('Class')\n"
   ]
  },
  {
   "cell_type": "markdown",
   "metadata": {},
   "source": [
    "This plot reveals some assumption that I had regarding that upper class passengers had a greater survival rate. First class passengers had the greatest survival rate while third class passengers had the worst survival rate. This leads me to believe that class will be an important predictor. "
   ]
  },
  {
   "cell_type": "code",
   "execution_count": 10,
   "metadata": {},
   "outputs": [
    {
     "data": {
      "text/plain": [
       "Text(0,0.5,'Gender')"
      ]
     },
     "execution_count": 10,
     "metadata": {},
     "output_type": "execute_result"
    },
    {
     "data": {
      "image/png": "[encoded data removed]",
      "text/plain": [
       "<matplotlib.figure.Figure at 0x24cf3803a58>"
      ]
     },
     "metadata": {},
     "output_type": "display_data"
    }
   ],
   "source": [
    "%matplotlib inline \n",
    "\n",
    "pd.crosstab(titanic['Sex'],titanic['Survived']).plot(kind='bar', figsize=(10,10))\n",
    "\n",
    "plt.title('Number of Survivers/Deaths By Gender')\n",
    "\n",
    "plt.xlabel('People')\n",
    "\n",
    "plt.ylabel('Gender')\n"
   ]
  },
  {
   "cell_type": "markdown",
   "metadata": {},
   "source": [
    "Females have a much greater survival rate than males. This satisfies an assumption where \"women and children\" were placedin life boats first. This too could be an important predictor. "
   ]
  },
  {
   "cell_type": "code",
   "execution_count": 13,
   "metadata": {},
   "outputs": [
    {
     "data": {
      "text/plain": [
       "Text(0,0.5,'Age')"
      ]
     },
     "execution_count": 13,
     "metadata": {},
     "output_type": "execute_result"
    },
    {
     "data": {
      "image/png": "[encoded data removed]",
      "text/plain": [
       "<matplotlib.figure.Figure at 0x24cf55a8c88>"
      ]
     },
     "metadata": {},
     "output_type": "display_data"
    }
   ],
   "source": [
    "%matplotlib inline \n",
    "\n",
    "pd.crosstab(titanic['Age'],titanic['Survived']).plot(kind='bar', figsize=(20,20))\n",
    "\n",
    "plt.title('Number of Survivers/Deaths By Age')\n",
    "\n",
    "plt.xlabel('People')\n",
    "\n",
    "plt.ylabel('Age')\n"
   ]
  },
  {
   "cell_type": "markdown",
   "metadata": {},
   "source": [
    "We observe quite the variety of survival rates for each age. Itis difficult to say that the elderly had the greatest survival rate because we see instances where 80 year old people had a high survival rate vs 70 year old people who had a low survival rate. I would be interested in seeing how this changes if we isolate by gender or by class."
   ]
  },
  {
   "cell_type": "code",
   "execution_count": 15,
   "metadata": {},
   "outputs": [
    {
     "data": {
      "text/plain": [
       "Text(0,0.5,'Age')"
      ]
     },
     "execution_count": 15,
     "metadata": {},
     "output_type": "execute_result"
    },
    {
     "data": {
      "image/png": "[encoded data removed]",
      "text/plain": [
       "<matplotlib.figure.Figure at 0x24cf5720828>"
      ]
     },
     "metadata": {},
     "output_type": "display_data"
    }
   ],
   "source": [
    " pysqldf = lambda q: sqldf(q, globals())\n",
    "\n",
    "q=\"\"\"\n",
    "select \n",
    "*\n",
    "from titanic\n",
    "where sex in ('male')\n",
    "\"\"\"\n",
    "\n",
    "males = pysqldf(q)\n",
    "\n",
    "%matplotlib inline \n",
    "\n",
    "pd.crosstab(males['Age'],males['Survived']).plot(kind='bar', figsize=(20,20))\n",
    "\n",
    "plt.title('Number of Survivers/Deaths By Age')\n",
    "\n",
    "plt.xlabel('People')\n",
    "\n",
    "plt.ylabel('Age')\n",
    "\n"
   ]
  },
  {
   "cell_type": "code",
   "execution_count": 16,
   "metadata": {},
   "outputs": [
    {
     "data": {
      "text/plain": [
       "Text(0,0.5,'Age')"
      ]
     },
     "execution_count": 16,
     "metadata": {},
     "output_type": "execute_result"
    },
    {
     "data": {
      "image/png": "[encoded data removed]",
      "text/plain": [
       "<matplotlib.figure.Figure at 0x24cf40d9828>"
      ]
     },
     "metadata": {},
     "output_type": "display_data"
    }
   ],
   "source": [
    "pysqldf = lambda q: sqldf(q, globals())\n",
    "\n",
    "q=\"\"\"\n",
    "select \n",
    "*\n",
    "from titanic\n",
    "where sex in ('female')\n",
    "\"\"\"\n",
    "\n",
    "males = pysqldf(q)\n",
    "\n",
    "%matplotlib inline \n",
    "\n",
    "pd.crosstab(males['Age'],males['Survived']).plot(kind='bar', figsize=(20,20))\n",
    "\n",
    "plt.title('Number of Survivers/Deaths By Age')\n",
    "\n",
    "plt.xlabel('People')\n",
    "\n",
    "plt.ylabel('Age')"
   ]
  },
  {
   "cell_type": "markdown",
   "metadata": {},
   "source": [
    "The drill down into gender still reveal what we suspected. I think we should bucket age into groups such as child, young adult, adult, and senior. "
   ]
  },
  {
   "cell_type": "code",
   "execution_count": 20,
   "metadata": {},
   "outputs": [
    {
     "data": {
      "text/plain": [
       "Text(0,0.5,'Age')"
      ]
     },
     "execution_count": 20,
     "metadata": {},
     "output_type": "execute_result"
    },
    {
     "data": {
      "image/png": "[encoded data removed]",
      "text/plain": [
       "<matplotlib.figure.Figure at 0x24cf6e30f60>"
      ]
     },
     "metadata": {},
     "output_type": "display_data"
    }
   ],
   "source": [
    " pysqldf = lambda q: sqldf(q, globals())\n",
    "\n",
    "q=\"\"\"\n",
    "select \n",
    "Survived,\n",
    "Pclass, \n",
    "Sex,\n",
    "case when Age<=12 then 'child'\n",
    "when Age>12 and Age<18 then 'young adult'\n",
    "when Age>=18 and Age<65 then 'Adult'\n",
    "when Age>=65 then 'Senior' end as age,\n",
    "SibSp,\n",
    "Parch,\n",
    "Ticket,\n",
    "Fare,\n",
    "Cabin,\n",
    "Embarked\n",
    "from titanic\n",
    "\n",
    "\"\"\"\n",
    "\n",
    "titanic2 = pysqldf(q)\n",
    "\n",
    "%matplotlib inline \n",
    "\n",
    "pd.crosstab(titanic2['age'],titanic2['Survived']).plot(kind='bar', figsize=(10,10))\n",
    "\n",
    "plt.title('Number of Survivers/Deaths By Age')\n",
    "\n",
    "plt.xlabel('People')\n",
    "\n",
    "plt.ylabel('Age')"
   ]
  },
  {
   "cell_type": "markdown",
   "metadata": {},
   "source": [
    "This is a much better story and I can see patterns emerge. I will ty using Age as a binned value or numerical variable when building models. We can see that children under the age of 12 have a greater survival rate. Young adults 12-18 have a slightly higher dath rate. seniors have a higher death rate but not as high as adults. I speculate that young adults had younger siblings and helped them board life craft. We can test this by considering the number of siblings variable. "
   ]
  },
  {
   "cell_type": "code",
   "execution_count": 21,
   "metadata": {},
   "outputs": [
    {
     "data": {
      "text/plain": [
       "Text(0,0.5,'Age')"
      ]
     },
     "execution_count": 21,
     "metadata": {},
     "output_type": "execute_result"
    },
    {
     "data": {
      "image/png": "[encoded data removed]",
      "text/plain": [
       "<matplotlib.figure.Figure at 0x24cf6ca94e0>"
      ]
     },
     "metadata": {},
     "output_type": "display_data"
    }
   ],
   "source": [
    "pysqldf = lambda q: sqldf(q, globals())\n",
    "\n",
    "q=\"\"\"\n",
    "select \n",
    "Survived,\n",
    "Pclass, \n",
    "Sex,\n",
    "case when Age<=12 then 'child'\n",
    "when Age>12 and Age<18 then 'young adult'\n",
    "when Age>=18 and Age<65 then 'Adult'\n",
    "when Age>=65 then 'Senior' end as age,\n",
    "SibSp,\n",
    "Parch,\n",
    "Ticket,\n",
    "Fare,\n",
    "Cabin,\n",
    "Embarked\n",
    "from titanic\n",
    "where SibSp>0\n",
    "\n",
    "\"\"\"\n",
    "\n",
    "titanic2 = pysqldf(q)\n",
    "\n",
    "%matplotlib inline \n",
    "\n",
    "pd.crosstab(titanic2['age'],titanic2['Survived']).plot(kind='bar', figsize=(10,10))\n",
    "\n",
    "plt.title('Number of Survivers/Deaths By Age with At Least 1 Sibling')\n",
    "\n",
    "plt.xlabel('People')\n",
    "\n",
    "plt.ylabel('Age')"
   ]
  },
  {
   "cell_type": "markdown",
   "metadata": {},
   "source": [
    "There seems to be an inverse relationship with number of young adults surviving with children given that they have at least one sibling. We can do correlation analysis but we leave that as a suggestion. Lets see the survival rates on everyone with a sibling as a whole."
   ]
  },
  {
   "cell_type": "code",
   "execution_count": 22,
   "metadata": {},
   "outputs": [
    {
     "data": {
      "text/plain": [
       "Text(0,0.5,'Number of siblings')"
      ]
     },
     "execution_count": 22,
     "metadata": {},
     "output_type": "execute_result"
    },
    {
     "data": {
      "image/png": "[encoded data removed]",
      "text/plain": [
       "<matplotlib.figure.Figure at 0x24cf6c3fac8>"
      ]
     },
     "metadata": {},
     "output_type": "display_data"
    }
   ],
   "source": [
    "%matplotlib inline \n",
    "\n",
    "pd.crosstab(titanic['SibSp'],titanic['Survived']).plot(kind='bar', figsize=(10,10))\n",
    "\n",
    "plt.title('Number of Survivers/Deaths By Passengers with Siblings')\n",
    "\n",
    "plt.xlabel('People')\n",
    "\n",
    "plt.ylabel('Number of siblings')\n"
   ]
  },
  {
   "cell_type": "markdown",
   "metadata": {},
   "source": [
    "It seems that having no siblings or more tha 1 sibling did not help the survival rate of passengers. We look at one more variable Parch, which is the number of parents with children. "
   ]
  },
  {
   "cell_type": "code",
   "execution_count": 23,
   "metadata": {},
   "outputs": [
    {
     "data": {
      "text/plain": [
       "Text(0,0.5,'Number of Parents')"
      ]
     },
     "execution_count": 23,
     "metadata": {},
     "output_type": "execute_result"
    },
    {
     "data": {
      "image/png": "[encoded data removed]",
      "text/plain": [
       "<matplotlib.figure.Figure at 0x24cf7e1c128>"
      ]
     },
     "metadata": {},
     "output_type": "display_data"
    }
   ],
   "source": [
    "%matplotlib inline \n",
    "\n",
    "pd.crosstab(titanic['Parch'],titanic['Survived']).plot(kind='bar', figsize=(10,10))\n",
    "\n",
    "plt.title('Number of Survivers/Deaths By Passengers who are parents with Children on Board')\n",
    "\n",
    "plt.xlabel('People')\n",
    "\n",
    "plt.ylabel('Number of Parents')\n"
   ]
  },
  {
   "cell_type": "markdown",
   "metadata": {},
   "source": [
    "It seems that parents with no children had a higher death rate. This could be due to the fact that children were given priority followed by the mother. Parents with one child had a higher survival rate but parents with more than one child had lower survival rates. "
   ]
  },
  {
   "cell_type": "code",
   "execution_count": 25,
   "metadata": {},
   "outputs": [
    {
     "data": {
      "text/plain": [
       "Text(0,0.5,'port')"
      ]
     },
     "execution_count": 25,
     "metadata": {},
     "output_type": "execute_result"
    },
    {
     "data": {
      "image/png": "[encoded data removed]",
      "text/plain": [
       "<matplotlib.figure.Figure at 0x24cf820b518>"
      ]
     },
     "metadata": {},
     "output_type": "display_data"
    }
   ],
   "source": [
    "%matplotlib inline \n",
    "\n",
    "pd.crosstab(titanic['Embarked'],titanic['Survived']).plot(kind='bar', figsize=(10,10))\n",
    "\n",
    "plt.title('Number of Survivers/Deaths By Point of Entry')\n",
    "\n",
    "plt.xlabel('People')\n",
    "\n",
    "plt.ylabel('port')"
   ]
  },
  {
   "cell_type": "markdown",
   "metadata": {},
   "source": [
    "People who come from port Cherbourg have ahigher survival rate. "
   ]
  },
  {
   "cell_type": "code",
   "execution_count": 24,
   "metadata": {},
   "outputs": [
    {
     "data": {
      "text/plain": [
       "<matplotlib.axes._subplots.AxesSubplot at 0x24cf74992e8>"
      ]
     },
     "execution_count": 24,
     "metadata": {},
     "output_type": "execute_result"
    },
    {
     "data": {
      "image/png": "[encoded data removed]",
      "text/plain": [
       "<matplotlib.figure.Figure at 0x24cf7e49a58>"
      ]
     },
     "metadata": {},
     "output_type": "display_data"
    }
   ],
   "source": [
    "# Density Plot of fare paid\n",
    "sns.distplot(titanic['Fare'], hist=True, kde=True, \n",
    "             bins=int(180/5), color = 'darkblue', \n",
    "             hist_kws={'edgecolor':'black'},\n",
    "             kde_kws={'linewidth': 4})"
   ]
  },
  {
   "cell_type": "markdown",
   "metadata": {},
   "source": [
    "our EDA has revealed that we should eliminate the Cabin variable since it is missing over 70% of the data. We can impute the remainder of the variables that are missing since they are well undernreath the threshold of missing variables. Fare could perhaps be transformed since there exists a right skew. Embarked has such a low percentage of missing data. I do not think it is worth imputing. We should impute age. \n",
    "\n",
    "We examined that the attribute age should be binned. We will perform feature engineering and data transforms in the train_model portion. "
   ]
  },
  {
   "cell_type": "markdown",
   "metadata": {},
   "source": [
    "### III) Train Model\n",
    "\n",
    "This portion will deal with feature engineering and splitting the titanic data into a train and test. We also introduce one hot encoder to be able to dummify categorical values. "
   ]
  },
  {
   "cell_type": "code",
   "execution_count": 50,
   "metadata": {},
   "outputs": [
    {
     "data": {
      "text/html": [
       "<div>\n",
       "<style scoped>\n",
       "    .dataframe tbody tr th:only-of-type {\n",
       "        vertical-align: middle;\n",
       "    }\n",
       "\n",
       "    .dataframe tbody tr th {\n",
       "        vertical-align: top;\n",
       "    }\n",
       "\n",
       "    .dataframe thead th {\n",
       "        text-align: right;\n",
       "    }\n",
       "</style>\n",
       "<table border=\"1\" class=\"dataframe\">\n",
       "  <thead>\n",
       "    <tr style=\"text-align: right;\">\n",
       "      <th></th>\n",
       "      <th>Survived</th>\n",
       "      <th>Pclass</th>\n",
       "      <th>Sex</th>\n",
       "      <th>Age</th>\n",
       "      <th>SibSp</th>\n",
       "      <th>Parch</th>\n",
       "      <th>Fare</th>\n",
       "      <th>Embarked</th>\n",
       "    </tr>\n",
       "  </thead>\n",
       "  <tbody>\n",
       "    <tr>\n",
       "      <th>0</th>\n",
       "      <td>0</td>\n",
       "      <td>3</td>\n",
       "      <td>male</td>\n",
       "      <td>22.0</td>\n",
       "      <td>1</td>\n",
       "      <td>0</td>\n",
       "      <td>7.2500</td>\n",
       "      <td>S</td>\n",
       "    </tr>\n",
       "    <tr>\n",
       "      <th>1</th>\n",
       "      <td>1</td>\n",
       "      <td>1</td>\n",
       "      <td>female</td>\n",
       "      <td>38.0</td>\n",
       "      <td>1</td>\n",
       "      <td>0</td>\n",
       "      <td>71.2833</td>\n",
       "      <td>C</td>\n",
       "    </tr>\n",
       "    <tr>\n",
       "      <th>2</th>\n",
       "      <td>1</td>\n",
       "      <td>3</td>\n",
       "      <td>female</td>\n",
       "      <td>26.0</td>\n",
       "      <td>0</td>\n",
       "      <td>0</td>\n",
       "      <td>7.9250</td>\n",
       "      <td>S</td>\n",
       "    </tr>\n",
       "    <tr>\n",
       "      <th>3</th>\n",
       "      <td>1</td>\n",
       "      <td>1</td>\n",
       "      <td>female</td>\n",
       "      <td>35.0</td>\n",
       "      <td>1</td>\n",
       "      <td>0</td>\n",
       "      <td>53.1000</td>\n",
       "      <td>S</td>\n",
       "    </tr>\n",
       "    <tr>\n",
       "      <th>4</th>\n",
       "      <td>0</td>\n",
       "      <td>3</td>\n",
       "      <td>male</td>\n",
       "      <td>35.0</td>\n",
       "      <td>0</td>\n",
       "      <td>0</td>\n",
       "      <td>8.0500</td>\n",
       "      <td>S</td>\n",
       "    </tr>\n",
       "  </tbody>\n",
       "</table>\n",
       "</div>"
      ],
      "text/plain": [
       "   Survived  Pclass     Sex   Age  SibSp  Parch     Fare Embarked\n",
       "0         0       3    male  22.0      1      0   7.2500        S\n",
       "1         1       1  female  38.0      1      0  71.2833        C\n",
       "2         1       3  female  26.0      0      0   7.9250        S\n",
       "3         1       1  female  35.0      1      0  53.1000        S\n",
       "4         0       3    male  35.0      0      0   8.0500        S"
      ]
     },
     "execution_count": 50,
     "metadata": {},
     "output_type": "execute_result"
    }
   ],
   "source": [
    "##Eliminate variables such as passenger id, passenger name, Ticket and cabin\n",
    "pysqldf = lambda q: sqldf(q, globals())\n",
    "\n",
    "q=\"\"\"\n",
    "select \n",
    "Survived,\n",
    "Pclass, \n",
    "Sex,\n",
    "Age,\n",
    "SibSp,\n",
    "Parch,\n",
    "Fare,\n",
    "Embarked\n",
    "from titanic\n",
    "\"\"\"\n",
    "\n",
    "titanic2 = pysqldf(q)\n",
    "\n",
    "\n",
    "\n",
    "\n",
    "#create a copy with binned age instead\n",
    "pysqldf = lambda q: sqldf(q, globals())\n",
    "\n",
    "q=\"\"\"\n",
    "select \n",
    "Survived,\n",
    "Pclass, \n",
    "Sex,\n",
    "case when Age<=12 then 'child'\n",
    "when Age>12 and Age<18 then 'young adult'\n",
    "when Age>=18 and Age<65 then 'Adult'\n",
    "when Age>=65 then 'Senior' end as age,\n",
    "SibSp,\n",
    "Parch,\n",
    "Fare,\n",
    "Embarked\n",
    "from titanic2\n",
    "\"\"\"\n",
    "\n",
    "titanic3 = pysqldf(q)\n",
    "\n",
    "titanic2.head()\n"
   ]
  },
  {
   "cell_type": "code",
   "execution_count": 52,
   "metadata": {},
   "outputs": [
    {
     "data": {
      "text/html": [
       "<div>\n",
       "<style scoped>\n",
       "    .dataframe tbody tr th:only-of-type {\n",
       "        vertical-align: middle;\n",
       "    }\n",
       "\n",
       "    .dataframe tbody tr th {\n",
       "        vertical-align: top;\n",
       "    }\n",
       "\n",
       "    .dataframe thead th {\n",
       "        text-align: right;\n",
       "    }\n",
       "</style>\n",
       "<table border=\"1\" class=\"dataframe\">\n",
       "  <thead>\n",
       "    <tr style=\"text-align: right;\">\n",
       "      <th></th>\n",
       "      <th>Survived</th>\n",
       "      <th>Pclass</th>\n",
       "      <th>Sex_male</th>\n",
       "      <th>Sex_female</th>\n",
       "      <th>Age</th>\n",
       "      <th>SibSp</th>\n",
       "      <th>Parch</th>\n",
       "      <th>Fare</th>\n",
       "      <th>Embarked_S</th>\n",
       "      <th>Embarked_C</th>\n",
       "      <th>Embarked_Q</th>\n",
       "    </tr>\n",
       "  </thead>\n",
       "  <tbody>\n",
       "    <tr>\n",
       "      <th>0</th>\n",
       "      <td>0</td>\n",
       "      <td>3</td>\n",
       "      <td>1</td>\n",
       "      <td>0</td>\n",
       "      <td>22.0</td>\n",
       "      <td>1</td>\n",
       "      <td>0</td>\n",
       "      <td>7.2500</td>\n",
       "      <td>1</td>\n",
       "      <td>0</td>\n",
       "      <td>0</td>\n",
       "    </tr>\n",
       "    <tr>\n",
       "      <th>1</th>\n",
       "      <td>1</td>\n",
       "      <td>1</td>\n",
       "      <td>0</td>\n",
       "      <td>1</td>\n",
       "      <td>38.0</td>\n",
       "      <td>1</td>\n",
       "      <td>0</td>\n",
       "      <td>71.2833</td>\n",
       "      <td>0</td>\n",
       "      <td>1</td>\n",
       "      <td>0</td>\n",
       "    </tr>\n",
       "    <tr>\n",
       "      <th>2</th>\n",
       "      <td>1</td>\n",
       "      <td>3</td>\n",
       "      <td>0</td>\n",
       "      <td>1</td>\n",
       "      <td>26.0</td>\n",
       "      <td>0</td>\n",
       "      <td>0</td>\n",
       "      <td>7.9250</td>\n",
       "      <td>1</td>\n",
       "      <td>0</td>\n",
       "      <td>0</td>\n",
       "    </tr>\n",
       "    <tr>\n",
       "      <th>3</th>\n",
       "      <td>1</td>\n",
       "      <td>1</td>\n",
       "      <td>0</td>\n",
       "      <td>1</td>\n",
       "      <td>35.0</td>\n",
       "      <td>1</td>\n",
       "      <td>0</td>\n",
       "      <td>53.1000</td>\n",
       "      <td>1</td>\n",
       "      <td>0</td>\n",
       "      <td>0</td>\n",
       "    </tr>\n",
       "    <tr>\n",
       "      <th>4</th>\n",
       "      <td>0</td>\n",
       "      <td>3</td>\n",
       "      <td>1</td>\n",
       "      <td>0</td>\n",
       "      <td>35.0</td>\n",
       "      <td>0</td>\n",
       "      <td>0</td>\n",
       "      <td>8.0500</td>\n",
       "      <td>1</td>\n",
       "      <td>0</td>\n",
       "      <td>0</td>\n",
       "    </tr>\n",
       "  </tbody>\n",
       "</table>\n",
       "</div>"
      ],
      "text/plain": [
       "   Survived  Pclass  Sex_male  Sex_female   Age  SibSp  Parch     Fare  \\\n",
       "0         0       3         1           0  22.0      1      0   7.2500   \n",
       "1         1       1         0           1  38.0      1      0  71.2833   \n",
       "2         1       3         0           1  26.0      0      0   7.9250   \n",
       "3         1       1         0           1  35.0      1      0  53.1000   \n",
       "4         0       3         1           0  35.0      0      0   8.0500   \n",
       "\n",
       "   Embarked_S  Embarked_C  Embarked_Q  \n",
       "0           1           0           0  \n",
       "1           0           1           0  \n",
       "2           1           0           0  \n",
       "3           1           0           0  \n",
       "4           1           0           0  "
      ]
     },
     "execution_count": 52,
     "metadata": {},
     "output_type": "execute_result"
    }
   ],
   "source": [
    "#Impute the age with the mean and Embarked with the mode and run one hot encoder on categorical variables\n",
    "\n",
    "titanic2['Embarked'] = titanic2['Embarked'].fillna('S')\n",
    "\n",
    "titanic2['Age'] = titanic2['Age'].fillna(titanic2.Age.mean())\n",
    "\n",
    "ohe = ce.OneHotEncoder(handle_unknown='ignore', use_cat_names=True)\n",
    "\n",
    "titanic2b = ohe.fit_transform(titanic2)\n",
    "\n",
    "titanic2b.head()"
   ]
  },
  {
   "cell_type": "code",
   "execution_count": 69,
   "metadata": {},
   "outputs": [],
   "source": [
    "#Prep the Data for Model \n",
    "\n",
    "#Prepping Data for Decision Tree\n",
    "X=titanic2b.drop(columns='Survived')\n",
    "\n",
    "Y=titanic2b['Survived'].copy() \n",
    "\n",
    "x_train, x_test, y_train, y_test=train_test_split(X, Y , test_size=0.2, random_state=100)"
   ]
  },
  {
   "cell_type": "code",
   "execution_count": 73,
   "metadata": {},
   "outputs": [
    {
     "data": {
      "text/plain": [
       "RandomForestClassifier(bootstrap=True, class_weight=None, criterion='entropy',\n",
       "            max_depth=10, max_features='auto', max_leaf_nodes=None,\n",
       "            min_impurity_decrease=0.0, min_impurity_split=None,\n",
       "            min_samples_leaf=1, min_samples_split=2,\n",
       "            min_weight_fraction_leaf=0.0, n_estimators=3000, n_jobs=None,\n",
       "            oob_score=False, random_state=None, verbose=0,\n",
       "            warm_start=False)"
      ]
     },
     "execution_count": 73,
     "metadata": {},
     "output_type": "execute_result"
    }
   ],
   "source": [
    "tree = RandomForestClassifier(bootstrap = True, criterion = 'entropy', max_depth = 10, n_estimators = 3000)\n",
    "\n",
    "tree\n",
    "\n",
    "tree.fit(x_train,y_train)"
   ]
  },
  {
   "cell_type": "code",
   "execution_count": 74,
   "metadata": {},
   "outputs": [
    {
     "name": "stdout",
     "output_type": "stream",
     "text": [
      "<class 'pandas.core.frame.DataFrame'>\n",
      "Int64Index: 712 entries, 408 to 520\n",
      "Data columns (total 10 columns):\n",
      "Pclass        712 non-null int64\n",
      "Sex_male      712 non-null int64\n",
      "Sex_female    712 non-null int64\n",
      "Age           712 non-null float64\n",
      "SibSp         712 non-null int64\n",
      "Parch         712 non-null int64\n",
      "Fare          712 non-null float64\n",
      "Embarked_S    712 non-null int64\n",
      "Embarked_C    712 non-null int64\n",
      "Embarked_Q    712 non-null int64\n",
      "dtypes: float64(2), int64(8)\n",
      "memory usage: 61.2 KB\n"
     ]
    }
   ],
   "source": [
    "x_train.info()"
   ]
  },
  {
   "cell_type": "code",
   "execution_count": 78,
   "metadata": {},
   "outputs": [],
   "source": [
    "# save the model to disk\n",
    "filename = 'randomforest.pkl'\n",
    "pickle.dump(tree, open(filename, 'wb'))\n",
    "\n",
    "# save the testset to disk\n",
    "filename2 = 'testx.pkl'\n",
    "pickle.dump(x_test, open(filename2, 'wb'))\n",
    "filename22 = 'testy.pkl'\n",
    "pickle.dump(y_test, open(filename22, 'wb'))\n",
    "\n",
    "# save the trainset to disk\n",
    "filename3 = 'trainx.pkl'\n",
    "pickle.dump(x_train, open(filename3, 'wb'))\n",
    "filename4 = 'trainy.pkl'\n",
    "pickle.dump(y_train, open(filename4, 'wb'))"
   ]
  },
  {
   "cell_type": "markdown",
   "metadata": {},
   "source": [
    "### IV) Score Model"
   ]
  },
  {
   "cell_type": "code",
   "execution_count": 79,
   "metadata": {},
   "outputs": [
    {
     "name": "stdout",
     "output_type": "stream",
     "text": [
      "              precision    recall  f1-score   support\n",
      "\n",
      "           0       0.84      0.90      0.87       104\n",
      "           1       0.85      0.76      0.80        75\n",
      "\n",
      "   micro avg       0.84      0.84      0.84       179\n",
      "   macro avg       0.85      0.83      0.84       179\n",
      "weighted avg       0.84      0.84      0.84       179\n",
      "\n"
     ]
    }
   ],
   "source": [
    "pred_tree = tree.predict(x_test)\n",
    "\n",
    "from sklearn.metrics import confusion_matrix,classification_report,precision_score\n",
    "\n",
    "print(classification_report(y_test,pred_tree))"
   ]
  },
  {
   "cell_type": "markdown",
   "metadata": {},
   "source": [
    "Current Model is 80% accurate. Lets see the confusion matrix. "
   ]
  },
  {
   "cell_type": "code",
   "execution_count": 80,
   "metadata": {},
   "outputs": [
    {
     "data": {
      "text/plain": [
       "<matplotlib.axes._subplots.AxesSubplot at 0x24cfe7cb940>"
      ]
     },
     "execution_count": 80,
     "metadata": {},
     "output_type": "execute_result"
    },
    {
     "data": {
      "image/png": "[encoded data removed]",
      "text/plain": [
       "<matplotlib.figure.Figure at 0x24cfe7cba58>"
      ]
     },
     "metadata": {},
     "output_type": "display_data"
    }
   ],
   "source": [
    "import seaborn as sns\n",
    "\n",
    "sns.heatmap(confusion_matrix(y_test,pred_tree),cmap=\"viridis\",lw = 2,annot=True,cbar=False)"
   ]
  },
  {
   "cell_type": "markdown",
   "metadata": {},
   "source": [
    "We correctly predict 57 passengers as survivors and 94 people as non survivers. We incorrectly predicted 10 non survivers as survivers and 18 survivers as non survivers. We makepredictions against the validation data. "
   ]
  },
  {
   "cell_type": "code",
   "execution_count": null,
   "metadata": {},
   "outputs": [],
   "source": []
  }
 ],
 "metadata": {
  "kernelspec": {
   "display_name": "Python 3",
   "language": "python",
   "name": "python3"
  },
  "language_info": {
   "codemirror_mode": {
    "name": "ipython",
    "version": 3
   },
   "file_extension": ".py",
   "mimetype": "text/x-python",
   "name": "python",
   "nbconvert_exporter": "python",
   "pygments_lexer": "ipython3",
   "version": "3.6.4"
  }
 },
 "nbformat": 4,
 "nbformat_minor": 2
}
